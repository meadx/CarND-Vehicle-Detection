{
 "cells": [
  {
   "cell_type": "markdown",
   "metadata": {},
   "source": [
    "# Vehicle Detection\n",
    "### by Kilian Muelken"
   ]
  },
  {
   "cell_type": "markdown",
   "metadata": {},
   "source": [
    "---\n",
    "#### Code Cell 1: necessary imports for the code"
   ]
  },
  {
   "cell_type": "code",
   "execution_count": 1,
   "metadata": {},
   "outputs": [],
   "source": [
    "import numpy as np\n",
    "import cv2\n",
    "import glob\n",
    "import time\n",
    "from skimage.feature import hog\n",
    "from moviepy.editor import VideoFileClip\n",
    "from sklearn.cross_validation import train_test_split\n",
    "from sklearn.svm import LinearSVC\n",
    "from sklearn.preprocessing import StandardScaler\n",
    "import matplotlib.pyplot as plt\n",
    "import matplotlib.image as mpimg\n",
    "from sklearn.externals import joblib\n",
    "import copy\n",
    "from scipy.ndimage.measurements import label"
   ]
  },
  {
   "cell_type": "markdown",
   "metadata": {},
   "source": [
    "___\n",
    "## Part 1: Vehicle detection functions\n",
    "*Functions for the vehicle Detection*"
   ]
  },
  {
   "cell_type": "markdown",
   "metadata": {},
   "source": [
    "### Part 1.1: Common functions"
   ]
  },
  {
   "cell_type": "markdown",
   "metadata": {},
   "source": [
    "___\n",
    "#### Code Cell ?: Calculate sliding windows\n",
    "**Input:** image, start and stop positions in both x and y, window size (x and y dimensions),  and overlap fraction (for both x and y)<br>\n",
    "**Output:** List of sliding windows"
   ]
  },
  {
   "cell_type": "code",
   "execution_count": 2,
   "metadata": {},
   "outputs": [],
   "source": [
    "def calcSlideWindows(img):\n",
    "    xy_window=(64, 64)\n",
    "    xy_overlap=(0.5, 0.5)\n",
    "    x_start = 0\n",
    "    x_stop = img.shape[1]\n",
    "    y_start = int(img.shape[0] * 0.5) # should be the highest place in the image, where cars can be seen\n",
    "    y_stop = img.shape[0] # above the bonnet\n",
    "        \n",
    "    # Compute the span of the region to be searched    \n",
    "    xspan = x_stop - x_start\n",
    "    yspan = y_stop - y_start\n",
    "    \n",
    "    # Compute the number of pixels per step in x/y\n",
    "    nx_pix_per_step = np.int(xy_window[0]*(1 - xy_overlap[0]))\n",
    "    ny_pix_per_step = np.int(xy_window[1]*(1 - xy_overlap[1]))\n",
    "    \n",
    "    # Compute the number of windows in x/y\n",
    "    nx_buffer = np.int(xy_window[0]*(xy_overlap[0]))\n",
    "    ny_buffer = np.int(xy_window[1]*(xy_overlap[1]))\n",
    "    nx_windows = np.int((xspan-nx_buffer)/nx_pix_per_step) \n",
    "    ny_windows = np.int((yspan-ny_buffer)/ny_pix_per_step) \n",
    "    \n",
    "    # Initialize a list to append window positions to\n",
    "    slidingWindows = []\n",
    "    \n",
    "    # Loop through finding x and y window positions\n",
    "    for ys in range(ny_windows):\n",
    "        for xs in range(nx_windows):\n",
    "            # Calculate window position\n",
    "            startx = xs*nx_pix_per_step + x_start\n",
    "            endx = startx + xy_window[0]\n",
    "            starty = ys*ny_pix_per_step + y_start\n",
    "            endy = starty + xy_window[1]\n",
    "            \n",
    "            # Append window position to list\n",
    "            slidingWindows.append(((startx, starty), (endx, endy)))\n",
    "    \n",
    "    # Return the list of windows\n",
    "    return slidingWindows"
   ]
  },
  {
   "cell_type": "markdown",
   "metadata": {},
   "source": [
    "___\n",
    "#### Code Cell ?: Plot and save images\n",
    "**Input:** list of images<br>\n",
    "**Output:** plots and saves images"
   ]
  },
  {
   "cell_type": "code",
   "execution_count": 3,
   "metadata": {},
   "outputs": [],
   "source": [
    "def plotImage(imgs, save=False):\n",
    "    # check if imgs is a list\n",
    "    imglist = []\n",
    "    \n",
    "    if isinstance(imgs, list):\n",
    "        imglist = imgs\n",
    "    else:\n",
    "        imglist.append(imgs)\n",
    "        \n",
    "    n_img = len(imglist)\n",
    "    \n",
    "    plt.figure(figsize=(20,5))\n",
    "    \n",
    "    for i in range(n_img):\n",
    "        # plot image\n",
    "        n_plot = 101 + n_img*10 + i\n",
    "        plt.subplot(n_plot) # source: https://stackoverflow.com/questions/35692507/plot-several-image-files-in-matplotlib-subplots\n",
    "        plt.imshow(imglist[i])\n",
    "        \n",
    "        # save image if save=true\n",
    "        if save:\n",
    "            #img_BGR = cv2.cvtColor(img_list[i],cv2.COLOR_RGB2BGR)\n",
    "            img_name = 'image_'+time.strftime('%m_%Y_%H_%M_%S')+'.jpg'\n",
    "            mpimg.imsave('output_images/'+img_name, imglist[i])"
   ]
  },
  {
   "cell_type": "markdown",
   "metadata": {},
   "source": [
    "___\n",
    "#### Code Cell ?: Draw bounding boxes\n",
    "**Input:** image to draw the boxes, position and size of the boxes<br>\n",
    "**Output:** image with boxes drawn"
   ]
  },
  {
   "cell_type": "code",
   "execution_count": 4,
   "metadata": {},
   "outputs": [],
   "source": [
    "def drawBoxes(img, bboxes):\n",
    "    color = (0, 0, 255) # Color of the boxes is blue\n",
    "    thick = 6  # thickness of the boxes\n",
    "    \n",
    "    img_boxes = np.copy(img) # Make a copy of the image\n",
    "    \n",
    "    for bbox in bboxes: # Iterate through the bounding boxes\n",
    "        cv2.rectangle(img_boxes, bbox[0], bbox[1], color, thick) # Draw a rectangle given bbox coordinates\n",
    "    \n",
    "    return img_boxes # return the image with boxes drawn"
   ]
  },
  {
   "cell_type": "markdown",
   "metadata": {},
   "source": [
    "#### Code Cell ?: Read test images\n",
    "**Input:** path of the test images<br>\n",
    "**Output:** images with marked detected vehicles"
   ]
  },
  {
   "cell_type": "code",
   "execution_count": 5,
   "metadata": {},
   "outputs": [],
   "source": [
    "def readImages(path):\n",
    "    images = []\n",
    "    images_list = glob.glob(path) # Make a list of calibration images\n",
    "\n",
    "    # Step through the list, read test images and convert them to RGB\n",
    "    for fname in images_list:\n",
    "        img = cv2.imread(fname)\n",
    "        rgb = cv2.cvtColor(img,cv2.COLOR_BGR2RGB)\n",
    "        images.append(rgb)\n",
    "    return images"
   ]
  },
  {
   "cell_type": "markdown",
   "metadata": {},
   "source": [
    "___\n",
    "#### Code Cell ?: Search for positive matches in windows\n",
    "*Uses extractFeatures()*\n",
    "**Input:** Image, Silde windows, Classifier, Scaler<br>\n",
    "**Output:** positive matches in windows"
   ]
  },
  {
   "cell_type": "code",
   "execution_count": 6,
   "metadata": {},
   "outputs": [],
   "source": [
    "def searchPositiveWindows(img, windows, clf, scaler):\n",
    "    \n",
    "    # Create an empty list to receive positive detection windows\n",
    "    on_windows = []\n",
    "    \n",
    "    # Iterate over all windows in the list\n",
    "    for window in windows:\n",
    "        # Extract the test window from original image\n",
    "        test_img = cv2.resize(img[window[0][1]:window[1][1], window[0][0]:window[1][0]], (64, 64))\n",
    "        \n",
    "        # Extract features for that window using single_img_features()\n",
    "        features = extractFeatures(test_img)\n",
    "        \n",
    "        # Scale extracted features to be fed to classifier\n",
    "        test_features = scaler.transform(np.array(features).reshape(1, -1))\n",
    "        \n",
    "        # Predict using your classifier\n",
    "        prediction = clf.predict(test_features)\n",
    "        \n",
    "        # If positive (prediction == 1) then save the window\n",
    "        if prediction == 1:\n",
    "            on_windows.append(window)\n",
    "            \n",
    "    # Return windows for positive detections\n",
    "    return on_windows"
   ]
  },
  {
   "cell_type": "markdown",
   "metadata": {},
   "source": [
    "___\n",
    "#### Code Cell ?: Check if windows are overlapping\n",
    "**Input:** 2 Windows<br>\n",
    "**Output:** Boolean (True if they are overlapping)"
   ]
  },
  {
   "cell_type": "code",
   "execution_count": 7,
   "metadata": {},
   "outputs": [],
   "source": [
    "# check if windows overlap\n",
    "def overlapWindow(win1, win2):\n",
    "    x_left_w1 = win1[0][0] # x positition of the left upper point of the first window\n",
    "    y_top_w1 = win1[0][1] # y positition of the left upper point of the first window\n",
    "    x_right_w1 = win1[1][0] # x positition of the right bottom point of the first window\n",
    "    y_bottom_w1 = win1[1][1] # y positition of the right bottom point of the first window\n",
    "    \n",
    "    x_left_w2 = win2[0][0] # x positition of the left upper point of the second window\n",
    "    y_top_w2 = win2[0][1] # y positition of the left upper point of the second window\n",
    "    x_right_w2 = win2[1][0] # x positition of the right bottom point of the second window\n",
    "    y_bottom_w2 = win2[1][1] # y positition of the right bottom point of the second window\n",
    "    \n",
    "    # if left upper point of the first window is in the second window\n",
    "    if ( (x_left_w2 <= x_left_w1 <= x_right_w2) & (y_top_w2 <= y_top_w1 <= y_bottom_w2) ):\n",
    "        overlap = True\n",
    "            \n",
    "    # if right upper point of the first window is in second window\n",
    "    elif ( (x_left_w2 <= x_right_w1 <= x_right_w2) & (y_top_w2 <= y_top_w1 <= y_bottom_w2) ):\n",
    "        overlap = True\n",
    "        \n",
    "    # if left bottom point of the first window is in second window\n",
    "    elif ( (x_left_w2 <= x_left_w1 <= x_right_w2) & (y_top_w2 <= y_bottom_w1 <= y_bottom_w2) ):\n",
    "        overlap = True\n",
    "        \n",
    "    # if right bottom point of the first window is in second window\n",
    "    elif ( (x_left_w2 <= x_right_w1 <= x_right_w2) & (y_top_w2 <= y_bottom_w1 <= y_bottom_w2) ):\n",
    "        overlap = True\n",
    "        \n",
    "    # if there is no overlapping\n",
    "    else:\n",
    "        overlap = False\n",
    "    \n",
    "    return overlap"
   ]
  },
  {
   "cell_type": "markdown",
   "metadata": {},
   "source": [
    "___\n",
    "#### Code Cell ?: Find and eliminate false positive windows\n",
    "**Input:** Detected windows with cars<br>\n",
    "**Output:** Windows with eliminated false positives"
   ]
  },
  {
   "cell_type": "code",
   "execution_count": 8,
   "metadata": {},
   "outputs": [],
   "source": [
    "def falsePositives(windows, last_windows):\n",
    "    \n",
    "    # Create an empty list to receive positive detection windows\n",
    "    windows_eliminated = []\n",
    "    \n",
    "    # Iterate over all windows in the list\n",
    "    for window in windows:        \n",
    "        for last_window in last_windows:            \n",
    "            if overlapWindow(window, last_window):\n",
    "                windows_eliminated.append(window)\n",
    "    \n",
    "    return windows_eliminated"
   ]
  },
  {
   "cell_type": "markdown",
   "metadata": {},
   "source": [
    "___\n",
    "#### Code Cell ?: Find and merge mulitple detections\n",
    "**Input:** Detected windows with cars<br>\n",
    "**Output:** windows with merged multiple detections"
   ]
  },
  {
   "cell_type": "code",
   "execution_count": 9,
   "metadata": {},
   "outputs": [],
   "source": [
    "def multipleDetectionsOld(windows):\n",
    "    \n",
    "    #### 1. seperate all windows in different window groups and put overlapping windows in the same group\n",
    "    window_groups = []\n",
    "    \n",
    "    #### 1.1 allocate windows to window groups\n",
    "    for window1o in windows: # take a window from the list\n",
    "        window1 = copy.copy(window1o)\n",
    "        firstmatch = True # is true for the first match\n",
    "        \n",
    "        # 1.1.1 check if the window overlaps with a window in the window groups\n",
    "        for win_group in window_groups: # go through exisiting window groups\n",
    "            for window2 in win_group: # go through windows in the window group\n",
    "                if overlapWindow(window1, window2): # check if the first window overlaps with a window\n",
    "                    \n",
    "                    # copy window group and append current window\n",
    "                    if firstmatch: \n",
    "                        window_group = copy.deepcopy(win_group) # copy this group\n",
    "                        window_groups.remove(win_group) # remove the group from the lsit of window groups\n",
    "                        window_group.append(window1) # append the window to the window group\n",
    "                        windows.remove(window1o) # remove current window from window list, because it is in a window group\n",
    "                        firstmatch = False\n",
    "                        \n",
    "                    # if there are more matches, merge both window groups\n",
    "                    else:\n",
    "                        for window3 in win_group:\n",
    "                            if window3 not in window_group:\n",
    "                                window_group.append(window3)\n",
    "                        \n",
    "                        if win_group in window_groups:\n",
    "                            window_groups.remove(win_group) # remove the group from the lsit of window groups\n",
    "        \n",
    "        # 1.1.2 if there is no overlap with a window of a existing group          \n",
    "        if firstmatch:\n",
    "            window_group = [] # make a new group\n",
    "            window_group.append(window1) # append current window to group\n",
    "            windows.remove(window1o) # delete current window from window list, because it is in a window group\n",
    "        \n",
    "        # append window group to list of window groups\n",
    "        window_groups.append(window_group)\n",
    "\n",
    "\n",
    "    #### 2. calculate the total windows for each group ##################################################\n",
    "    windows_multiDetect = []\n",
    "    print(window_groups)\n",
    "    for win_group in window_groups:\n",
    "        xul = min(win[0][0] for win in win_group)\n",
    "        yul = min(win[0][1] for win in win_group)\n",
    "        xbr = max(win[1][0] for win in win_group)\n",
    "        ybr = max(win[1][1] for win in win_group)\n",
    "                \n",
    "        total_window = ((xul, yul), (xbr, ybr))\n",
    "        windows_multiDetect.append(total_window)\n",
    "    \n",
    "    return windows_multiDetect"
   ]
  },
  {
   "cell_type": "code",
   "execution_count": 23,
   "metadata": {},
   "outputs": [],
   "source": [
    "def addHeat(heatmap, bbox_list):\n",
    "    # Iterate through list of bboxes\n",
    "    for box in bbox_list:\n",
    "        # Add += 1 for all pixels inside each bbox\n",
    "        # Assuming each \"box\" takes the form ((x1, y1), (x2, y2))\n",
    "        heatmap[box[0][1]:box[1][1], box[0][0]:box[1][0]] += 1\n",
    "\n",
    "    # normalize heatmap\n",
    "    heatmap /= 4\n",
    "        \n",
    "    # Return updated heatmap\n",
    "    return heatmap# Iterate through list of bboxes\n",
    "\n",
    "def getbboxes(labels):\n",
    "    bboxes = []\n",
    "    # Iterate through all detected cars\n",
    "    for car_number in range(1, labels[1]+1):\n",
    "        # Find pixels with each car_number label value\n",
    "        nonzero = (labels[0] == car_number).nonzero()\n",
    "        # Identify x and y values of those pixels\n",
    "        nonzeroy = np.array(nonzero[0])\n",
    "        nonzerox = np.array(nonzero[1])\n",
    "        # Define a bounding box based on min/max x and y\n",
    "        bbox = ((np.min(nonzerox), np.min(nonzeroy)), (np.max(nonzerox), np.max(nonzeroy)))\n",
    "        \n",
    "        bboxes.append(bbox)\n",
    "\n",
    "    # Return the bboxes\n",
    "    return bboxes\n",
    "\n",
    "        \n",
    "def multipleDetections(image, windows):\n",
    "    threshold = 0.1\n",
    "    \n",
    "    new_heatmap = np.zeros_like(image[:,:,0]).astype(np.float)\n",
    "    \n",
    "    # define a map to add the heat\n",
    "    if ('heatmap' not in globals()):\n",
    "        heatmap = np.zeros_like(image[:,:,0]).astype(np.float)\n",
    "    \n",
    "    # add new heat to the map\n",
    "    new_heatmap = addHeat(new_heatmap, windows)\n",
    "        \n",
    "    # calculate average with old heat\n",
    "    heatmap = (2*new_heatmap + heatmap) / 3.0\n",
    "    \n",
    "    print(heatmap.max())\n",
    "    \n",
    "    # reduce heat less than threshold\n",
    "    heatmap[heatmap <= threshold] = 0\n",
    "    \n",
    "    # detect cars on image\n",
    "    labels = label(heatmap)\n",
    "    \n",
    "    # get boxes around the detected cars\n",
    "    windows_final = getbboxes(labels)\n",
    "    \n",
    "    # draw boxes on the image\n",
    "    image_final = drawBoxes(image, windows_final)\n",
    "    \n",
    "    return image_final\n",
    "    "
   ]
  },
  {
   "cell_type": "markdown",
   "metadata": {},
   "source": [
    "___\n",
    "### Part 1.2: Feature functions"
   ]
  },
  {
   "cell_type": "markdown",
   "metadata": {},
   "source": [
    "___\n",
    "#### Code Cell ?: Compute HOG features\n",
    "**Input:** Image<br>\n",
    "**Output:** HOG features"
   ]
  },
  {
   "cell_type": "code",
   "execution_count": 11,
   "metadata": {},
   "outputs": [],
   "source": [
    "def hogFeatures(img):\n",
    "    orientations = 9\n",
    "    pix_per_cell = 8\n",
    "    pixels_per_cell=(pix_per_cell, pix_per_cell)\n",
    "    cell_per_block = 2\n",
    "    cells_per_block=(cell_per_block, cell_per_block)\n",
    "    block_norm = 'L2-Hys'\n",
    "    transform_sqrt = True\n",
    "    visualise = False\n",
    "    feature_vector = True\n",
    "    hog_channel = 'ALL'\n",
    "      \n",
    "    if hog_channel == 'ALL':\n",
    "        features = []\n",
    "        for channel in range(img.shape[2]):\n",
    "            features_channel = hog(img[:,:,channel], orientations=orientations, \n",
    "                       pixels_per_cell=(pix_per_cell, pix_per_cell),\n",
    "                       cells_per_block=(cell_per_block, cell_per_block), \n",
    "                       visualise=visualise, feature_vector=feature_vector)\n",
    "            features.append(features_channel)\n",
    "        features = np.ravel(features)\n",
    "    else:\n",
    "        img_hog = img[:,:,hog_channel]\n",
    "        features = hog(img_hog, orientations=orientations, \n",
    "                    pixels_per_cell=(pix_per_cell, pix_per_cell),\n",
    "                    cells_per_block=(cell_per_block, cell_per_block), \n",
    "                    block_norm= 'L2-Hys',\n",
    "                    transform_sqrt=True, \n",
    "                    visualise=visualise, feature_vector=feature_vector)\n",
    "    return features"
   ]
  },
  {
   "cell_type": "markdown",
   "metadata": {},
   "source": [
    "___\n",
    "#### Code Cell ?: Compute binned color features \n",
    "**Input:** Image<br>\n",
    "**Output:** binned color features"
   ]
  },
  {
   "cell_type": "code",
   "execution_count": 12,
   "metadata": {},
   "outputs": [],
   "source": [
    "def binSpatial(img):\n",
    "    size=(32, 32)\n",
    "    \n",
    "    # Use cv2.resize().ravel() to create the feature vector\n",
    "    features = cv2.resize(img, size).ravel() \n",
    "    \n",
    "    # Return the feature vector\n",
    "    return features"
   ]
  },
  {
   "cell_type": "markdown",
   "metadata": {},
   "source": [
    "___\n",
    "#### Code Cell ?: Compute color histogram features \n",
    "**Input:** Image<br>\n",
    "**Output:** binned color features"
   ]
  },
  {
   "cell_type": "code",
   "execution_count": 13,
   "metadata": {},
   "outputs": [],
   "source": [
    "def colorHist(img):\n",
    "    nbins=32\n",
    "    bins_range=(0, 256) # NEED TO CHANGE bins_range if reading .png files with mpimg!\n",
    "        \n",
    "    # Compute the histogram of the color channels separately\n",
    "    channel1_hist = np.histogram(img[:,:,0], bins=nbins, range=bins_range)\n",
    "    channel2_hist = np.histogram(img[:,:,1], bins=nbins, range=bins_range)\n",
    "    channel3_hist = np.histogram(img[:,:,2], bins=nbins, range=bins_range)\n",
    "    \n",
    "    # Concatenate the histograms into a single feature vector\n",
    "    features = np.concatenate((channel1_hist[0], channel2_hist[0], channel3_hist[0]))\n",
    "    \n",
    "    # Return the individual histograms, bin_centers and feature vector\n",
    "    return features"
   ]
  },
  {
   "cell_type": "markdown",
   "metadata": {},
   "source": [
    "___\n",
    "#### Code Cell ?: Extract features \n",
    "*Uses hogFeatures(), binSpatial() and colorHist()*\n",
    "**Input:** Image<br>\n",
    "**Output:** features"
   ]
  },
  {
   "cell_type": "code",
   "execution_count": 14,
   "metadata": {},
   "outputs": [],
   "source": [
    "def extractFeatures(imgs):\n",
    "    color_space = 'YCrCb'\n",
    "    spatial_feat = True\n",
    "    hist_feat  =True\n",
    "    hog_feat = True\n",
    "    \n",
    "    # check if imgs is a list\n",
    "    if isinstance(imgs, list):\n",
    "        imglist = imgs\n",
    "    else:\n",
    "        imglist = []\n",
    "        imglist.append(imgs)\n",
    "        \n",
    "    # Create a list to append feature vectors to\n",
    "    features = []\n",
    "    \n",
    "    for img in imglist:\n",
    "        img_features = []\n",
    "    \n",
    "        # color conversion if other than 'RGB'\n",
    "        if color_space != 'RGB':\n",
    "            if color_space == 'HSV':\n",
    "                feature_image = cv2.cvtColor(img, cv2.COLOR_RGB2HSV)\n",
    "            elif color_space == 'LUV':\n",
    "                feature_image = cv2.cvtColor(img, cv2.COLOR_RGB2LUV)\n",
    "            elif color_space == 'HLS':\n",
    "                    feature_image = cv2.cvtColor(img, cv2.COLOR_RGB2HLS)\n",
    "            elif color_space == 'YUV':\n",
    "                feature_image = cv2.cvtColor(img, cv2.COLOR_RGB2YUV)\n",
    "            elif color_space == 'YCrCb':\n",
    "                feature_image = cv2.cvtColor(img, cv2.COLOR_RGB2YCrCb)\n",
    "        else:\n",
    "            feature_image = np.copy(img) \n",
    "\n",
    "        # Compute binned color features\n",
    "        if spatial_feat == True:\n",
    "            spatial_features = binSpatial(feature_image)\n",
    "            img_features.append(spatial_features)\n",
    "            \n",
    "\n",
    "        # Compute color histogram features\n",
    "        if hist_feat == True:\n",
    "            hist_features = colorHist(feature_image)\n",
    "            img_features.append(hist_features)\n",
    "            \n",
    "\n",
    "        # Compute HOG features\n",
    "        if hog_feat == True:\n",
    "            hog_features = hogFeatures(feature_image)\n",
    "            img_features.append(hog_features)\n",
    "\n",
    "        features.append(np.concatenate(img_features))\n",
    "        \n",
    "    # Return list of feature vectors\n",
    "    return features"
   ]
  },
  {
   "cell_type": "markdown",
   "metadata": {},
   "source": [
    "___\n",
    "## Part ?: Training of the Classifier\n",
    "*Training of the Classifier with test images*<br>"
   ]
  },
  {
   "cell_type": "markdown",
   "metadata": {},
   "source": [
    "#### Code Cell ?: Training Pipeline\n",
    "**Input:** path of the training images<br>\n",
    "**Output:** trained classifier"
   ]
  },
  {
   "cell_type": "code",
   "execution_count": 15,
   "metadata": {},
   "outputs": [],
   "source": [
    "def trainingPipeline(cars, notcars):\n",
    "    n_cars = len(cars)\n",
    "    n_notcars = len(notcars)\n",
    "    \n",
    "    if n_cars < n_notcars:\n",
    "        notcars = notcars[0:n_cars]\n",
    "    elif n_notcars < n_cars:\n",
    "        cars = cars[0:n_notcars]\n",
    "    \n",
    "    car_features = extractFeatures(cars)\n",
    "    notcar_features = extractFeatures(notcars)\n",
    "        \n",
    "    # Create an array stack of feature vectors\n",
    "    X = np.vstack((car_features, notcar_features)).astype(np.float64)\n",
    "\n",
    "    # Define the labels vector\n",
    "    y = np.hstack((np.ones(len(car_features)), np.zeros(len(notcar_features))))\n",
    "\n",
    "    # Split up data into randomized training and test sets\n",
    "    rand_state = np.random.randint(0, 100)\n",
    "    X_train, X_test, y_train, y_test = train_test_split(X, y, test_size=0.2, random_state=rand_state)\n",
    "\n",
    "    # Fit a per-column scaler\n",
    "    X_scaler = StandardScaler().fit(X_train)\n",
    "    \n",
    "    # Apply the scaler to X\n",
    "    X_train = X_scaler.transform(X_train)\n",
    "    X_test = X_scaler.transform(X_test)\n",
    "    \n",
    "    # Use a linear SVC \n",
    "    svc = LinearSVC()\n",
    "    svc.fit(X_train, y_train)\n",
    "    \n",
    "    # Check the score of the SVC\n",
    "    print('Test Accuracy of SVC = ', round(svc.score(X_test, y_test), 4))\n",
    "    \n",
    "    return svc, X_scaler"
   ]
  },
  {
   "cell_type": "code",
   "execution_count": 16,
   "metadata": {},
   "outputs": [],
   "source": [
    "training = False # Set to True for new training\n",
    "\n",
    "if training:\n",
    "    # read train images\n",
    "    notcars = readImages('train_nv/*.png')\n",
    "    cars = readImages('train_v/*.png')\n",
    "\n",
    "    clf, scaler = trainingPipeline(cars, notcars)\n",
    "\n",
    "    # save the classifier and scaler to the disk\n",
    "    # source: http://scikit-learn.org/stable/modules/model_persistence.html\n",
    "    joblib.dump(clf, 'clf.pkl')\n",
    "    joblib.dump(scaler, 'scaler.pkl')"
   ]
  },
  {
   "cell_type": "code",
   "execution_count": 17,
   "metadata": {},
   "outputs": [],
   "source": [
    "# load the classifier and scaler\n",
    "# source: http://scikit-learn.org/stable/modules/model_persistence.html\n",
    "clf = joblib.load('clf.pkl')\n",
    "scaler = joblib.load('scaler.pkl')"
   ]
  },
  {
   "cell_type": "markdown",
   "metadata": {},
   "source": [
    "___\n",
    "## Part ?: Testing\n",
    "*Test of the Classifier with test images and test video*<br>"
   ]
  },
  {
   "cell_type": "markdown",
   "metadata": {},
   "source": [
    "___\n",
    "#### Code Cell ?: Image Testing Pipeline\n",
    "*Test of the Classifier with test images*<br>\n",
    "**Input:** path of the test images<br>\n",
    "**Output:** images with marked detected vehicles"
   ]
  },
  {
   "cell_type": "code",
   "execution_count": 18,
   "metadata": {},
   "outputs": [],
   "source": [
    "def imagePipeline(img):\n",
    "    global heatmap # detected windows from the last image\n",
    "    \n",
    "    image = np.copy(img) # Make a copy of the image\n",
    "    \n",
    "    # calculate the searching windows\n",
    "    slide_windows = calcSlideWindows(image)\n",
    "    \n",
    "    # find positive matches in searching windows\n",
    "    car_windows = searchPositiveWindows(image, slide_windows, clf, scaler)\n",
    "    print(car_windows)\n",
    "    \n",
    "    # delete false positives\n",
    "    #if ('last_heat' in globals()):\n",
    "        #if len(last_windows) > 0:\n",
    "            #windows_pos_fp = falsePositives(windows_pos, last_windows)\n",
    "        #else:\n",
    "            #windows_pos_fp = windows_pos\n",
    "    #else:\n",
    "        #windows_pos_fp = windows_pos\n",
    "    \n",
    "    # save the detection for the next image\n",
    "    #last_windows = windows_pos\n",
    "    \n",
    "    # merge multiple detections\n",
    "    image_cars = multipleDetections(image, car_windows)\n",
    "    \n",
    "    # draw the detections on the image\n",
    "    #res_img = drawBoxes(image, windows_pos_md)\n",
    "    #res_img = windows_pos_md\n",
    "    \n",
    "    return image_cars"
   ]
  },
  {
   "cell_type": "code",
   "execution_count": 19,
   "metadata": {
    "scrolled": true
   },
   "outputs": [
    {
     "name": "stdout",
     "output_type": "stream",
     "text": [
      "[((864, 392), (928, 456)), ((864, 424), (928, 488))]\n",
      "0.25\n",
      "[]\n",
      "0.0\n",
      "[((896, 424), (960, 488))]\n",
      "0.125\n",
      "[((1184, 424), (1248, 488))]\n",
      "0.125\n",
      "[((832, 392), (896, 456)), ((864, 392), (928, 456)), ((1120, 392), (1184, 456)), ((832, 424), (896, 488)), ((864, 424), (928, 488)), ((1184, 456), (1248, 520))]\n",
      "0.5\n",
      "[((832, 424), (896, 488)), ((864, 424), (928, 488))]\n",
      "0.25\n"
     ]
    },
    {
     "data": {
      "image/png": "[encoded data removed]",
      "text/plain": [
       "<matplotlib.figure.Figure at 0x17bf1267278>"
      ]
     },
     "metadata": {},
     "output_type": "display_data"
    }
   ],
   "source": [
    "# read test images\n",
    "test_images = readImages('test_images/*.jpg')\n",
    "\n",
    "images = []\n",
    "\n",
    "for test_image in test_images:\n",
    "    # pipeline\n",
    "    test_image_detected = imagePipeline(test_image)\n",
    "    images.append(test_image_detected)\n",
    "    \n",
    "plotImage(images)"
   ]
  },
  {
   "cell_type": "code",
   "execution_count": null,
   "metadata": {},
   "outputs": [],
   "source": []
  },
  {
   "cell_type": "markdown",
   "metadata": {},
   "source": [
    "___\n",
    "#### Code Cell ?: Video Pipeline\n",
    "*Test of the Classifier with test video*<br>\n",
    "**Input:** path of the test video<br>\n",
    "**Output:** video with marked detected vehicles"
   ]
  },
  {
   "cell_type": "code",
   "execution_count": 20,
   "metadata": {},
   "outputs": [],
   "source": [
    "def videoPipeline(img):\n",
    "    # Sliding window\n",
    "    res_img = imagePipeline(img)\n",
    "    \n",
    "    return res_img"
   ]
  },
  {
   "cell_type": "markdown",
   "metadata": {},
   "source": [
    "#### Code Cell ?: Detect vehicles on video\n",
    "**Input:** name of the test video<br>\n",
    "**Output:** video with marked detected vehicles will be written in current folder"
   ]
  },
  {
   "cell_type": "code",
   "execution_count": 24,
   "metadata": {},
   "outputs": [],
   "source": [
    "def detectVehicles(video_file_name):\n",
    "    #clip = VideoFileClip(video_file_name+'.mp4')\n",
    "    clip = VideoFileClip(video_file_name+'.mp4').subclip(15,20)\n",
    "    video_clip = clip.fl_image(videoPipeline)\n",
    "    %time video_clip.write_videofile(video_file_name+'_with_detected_vehicles.mp4', audio=False)"
   ]
  },
  {
   "cell_type": "code",
   "execution_count": 25,
   "metadata": {},
   "outputs": [
    {
     "name": "stdout",
     "output_type": "stream",
     "text": [
      "[((960, 424), (1024, 488))]\n",
      "0.166666666667\n",
      "[MoviePy] >>>> Building video project_video_with_detected_vehicles.mp4\n",
      "[MoviePy] Writing video project_video_with_detected_vehicles.mp4\n"
     ]
    },
    {
     "name": "stderr",
     "output_type": "stream",
     "text": [
      "\n",
      "  0%|                                                                                          | 0/126 [00:00<?, ?it/s]"
     ]
    },
    {
     "name": "stdout",
     "output_type": "stream",
     "text": [
      "[((960, 424), (1024, 488))]\n",
      "0.166666666667\n"
     ]
    },
    {
     "name": "stderr",
     "output_type": "stream",
     "text": [
      "\n",
      "  1%|▋                                                                                 | 1/126 [00:02<04:10,  2.00s/it]"
     ]
    },
    {
     "name": "stdout",
     "output_type": "stream",
     "text": [
      "[((960, 424), (1024, 488)), ((1056, 424), (1120, 488))]\n",
      "0.166666666667\n"
     ]
    },
    {
     "name": "stderr",
     "output_type": "stream",
     "text": [
      "\n",
      "  2%|█▎                                                                                | 2/126 [00:04<04:10,  2.02s/it]"
     ]
    },
    {
     "name": "stdout",
     "output_type": "stream",
     "text": [
      "[((960, 424), (1024, 488)), ((992, 424), (1056, 488)), ((1056, 424), (1120, 488))]\n",
      "0.333333333333\n"
     ]
    },
    {
     "name": "stderr",
     "output_type": "stream",
     "text": [
      "\n",
      "  2%|█▉                                                                                | 3/126 [00:06<04:08,  2.02s/it]"
     ]
    },
    {
     "name": "stdout",
     "output_type": "stream",
     "text": [
      "[((960, 424), (1024, 488)), ((992, 424), (1056, 488)), ((1056, 424), (1120, 488))]\n",
      "0.333333333333\n"
     ]
    },
    {
     "name": "stderr",
     "output_type": "stream",
     "text": [
      "\n",
      "  3%|██▌                                                                               | 4/126 [00:08<04:17,  2.11s/it]"
     ]
    },
    {
     "name": "stdout",
     "output_type": "stream",
     "text": [
      "[((960, 424), (1024, 488)), ((1056, 424), (1120, 488))]\n",
      "0.166666666667\n"
     ]
    },
    {
     "name": "stderr",
     "output_type": "stream",
     "text": [
      "\n",
      "  4%|███▎                                                                              | 5/126 [00:10<04:10,  2.07s/it]"
     ]
    },
    {
     "name": "stdout",
     "output_type": "stream",
     "text": [
      "[((960, 424), (1024, 488))]\n",
      "0.166666666667\n"
     ]
    },
    {
     "name": "stderr",
     "output_type": "stream",
     "text": [
      "\n",
      "  5%|███▉                                                                              | 6/126 [00:12<04:05,  2.04s/it]"
     ]
    },
    {
     "name": "stdout",
     "output_type": "stream",
     "text": [
      "[((960, 424), (1024, 488)), ((992, 424), (1056, 488))]\n",
      "0.333333333333\n"
     ]
    },
    {
     "name": "stderr",
     "output_type": "stream",
     "text": [
      "\n",
      "  6%|████▌                                                                             | 7/126 [00:14<03:59,  2.02s/it]"
     ]
    },
    {
     "name": "stdout",
     "output_type": "stream",
     "text": [
      "[((992, 424), (1056, 488))]\n",
      "0.166666666667\n"
     ]
    },
    {
     "name": "stderr",
     "output_type": "stream",
     "text": [
      "\n",
      "  6%|█████▏                                                                            | 8/126 [00:16<03:56,  2.01s/it]"
     ]
    },
    {
     "name": "stdout",
     "output_type": "stream",
     "text": [
      "[((1024, 424), (1088, 488))]\n",
      "0.166666666667\n"
     ]
    },
    {
     "name": "stderr",
     "output_type": "stream",
     "text": [
      "\n",
      "  7%|█████▊                                                                            | 9/126 [00:18<04:00,  2.06s/it]"
     ]
    },
    {
     "name": "stdout",
     "output_type": "stream",
     "text": [
      "[((1024, 424), (1088, 488))]\n",
      "0.166666666667\n"
     ]
    },
    {
     "name": "stderr",
     "output_type": "stream",
     "text": [
      "\n",
      "  8%|██████▍                                                                          | 10/126 [00:20<03:58,  2.05s/it]"
     ]
    },
    {
     "name": "stdout",
     "output_type": "stream",
     "text": [
      "[((1024, 424), (1088, 488))]\n",
      "0.166666666667\n"
     ]
    },
    {
     "name": "stderr",
     "output_type": "stream",
     "text": [
      "\n",
      "  9%|███████                                                                          | 11/126 [00:22<03:51,  2.01s/it]"
     ]
    },
    {
     "name": "stdout",
     "output_type": "stream",
     "text": [
      "[((1024, 424), (1088, 488))]\n",
      "0.166666666667\n"
     ]
    },
    {
     "name": "stderr",
     "output_type": "stream",
     "text": [
      "\n",
      " 10%|███████▋                                                                         | 12/126 [00:24<03:45,  1.98s/it]"
     ]
    },
    {
     "name": "stdout",
     "output_type": "stream",
     "text": [
      "[((1024, 424), (1088, 488))]\n",
      "0.166666666667\n"
     ]
    },
    {
     "name": "stderr",
     "output_type": "stream",
     "text": [
      "\n",
      " 10%|████████▎                                                                        | 13/126 [00:26<03:38,  1.93s/it]"
     ]
    },
    {
     "name": "stdout",
     "output_type": "stream",
     "text": [
      "[((1024, 424), (1088, 488))]\n",
      "0.166666666667\n"
     ]
    },
    {
     "name": "stderr",
     "output_type": "stream",
     "text": [
      "\n",
      " 11%|█████████                                                                        | 14/126 [00:27<03:27,  1.85s/it]"
     ]
    },
    {
     "name": "stdout",
     "output_type": "stream",
     "text": [
      "[((1024, 424), (1088, 488))]\n",
      "0.166666666667\n"
     ]
    },
    {
     "name": "stderr",
     "output_type": "stream",
     "text": [
      "\n",
      " 12%|█████████▋                                                                       | 15/126 [00:29<03:28,  1.88s/it]"
     ]
    },
    {
     "name": "stdout",
     "output_type": "stream",
     "text": [
      "[]\n",
      "0.0\n"
     ]
    },
    {
     "name": "stderr",
     "output_type": "stream",
     "text": [
      "\n",
      " 13%|██████████▎                                                                      | 16/126 [00:31<03:31,  1.92s/it]"
     ]
    },
    {
     "name": "stdout",
     "output_type": "stream",
     "text": [
      "[((1024, 424), (1088, 488))]\n",
      "0.166666666667\n"
     ]
    },
    {
     "name": "stderr",
     "output_type": "stream",
     "text": [
      "\n",
      " 13%|██████████▉                                                                      | 17/126 [00:33<03:29,  1.92s/it]"
     ]
    },
    {
     "name": "stdout",
     "output_type": "stream",
     "text": [
      "[((1024, 424), (1088, 488))]\n",
      "0.166666666667\n"
     ]
    },
    {
     "name": "stderr",
     "output_type": "stream",
     "text": [
      "\n",
      " 14%|███████████▌                                                                     | 18/126 [00:35<03:30,  1.95s/it]"
     ]
    },
    {
     "name": "stdout",
     "output_type": "stream",
     "text": [
      "[((1024, 424), (1088, 488))]\n",
      "0.166666666667\n"
     ]
    },
    {
     "name": "stderr",
     "output_type": "stream",
     "text": [
      "\n",
      " 15%|████████████▏                                                                    | 19/126 [00:37<03:29,  1.95s/it]"
     ]
    },
    {
     "name": "stdout",
     "output_type": "stream",
     "text": [
      "[((1024, 424), (1088, 488))]\n",
      "0.166666666667\n"
     ]
    },
    {
     "name": "stderr",
     "output_type": "stream",
     "text": [
      "\n",
      " 16%|████████████▊                                                                    | 20/126 [00:39<03:26,  1.95s/it]"
     ]
    },
    {
     "name": "stdout",
     "output_type": "stream",
     "text": [
      "[((1024, 424), (1088, 488))]\n",
      "0.166666666667\n"
     ]
    },
    {
     "name": "stderr",
     "output_type": "stream",
     "text": [
      "\n",
      " 17%|█████████████▌                                                                   | 21/126 [00:41<03:21,  1.92s/it]"
     ]
    },
    {
     "name": "stdout",
     "output_type": "stream",
     "text": [
      "[((1024, 424), (1088, 488))]\n",
      "0.166666666667\n"
     ]
    },
    {
     "name": "stderr",
     "output_type": "stream",
     "text": [
      "\n",
      " 17%|██████████████▏                                                                  | 22/126 [00:43<03:14,  1.87s/it]"
     ]
    },
    {
     "name": "stdout",
     "output_type": "stream",
     "text": [
      "[((928, 424), (992, 488)), ((1024, 424), (1088, 488))]\n",
      "0.166666666667\n"
     ]
    },
    {
     "name": "stderr",
     "output_type": "stream",
     "text": [
      "\n",
      " 18%|██████████████▊                                                                  | 23/126 [00:45<03:16,  1.90s/it]"
     ]
    },
    {
     "name": "stdout",
     "output_type": "stream",
     "text": [
      "[((928, 424), (992, 488)), ((1024, 424), (1088, 488))]\n",
      "0.166666666667\n"
     ]
    },
    {
     "name": "stderr",
     "output_type": "stream",
     "text": [
      "\n",
      " 19%|███████████████▍                                                                 | 24/126 [00:46<03:09,  1.86s/it]"
     ]
    },
    {
     "name": "stdout",
     "output_type": "stream",
     "text": [
      "[((928, 424), (992, 488)), ((1024, 424), (1088, 488))]\n",
      "0.166666666667\n"
     ]
    },
    {
     "name": "stderr",
     "output_type": "stream",
     "text": [
      "\n",
      " 20%|████████████████                                                                 | 25/126 [00:48<03:08,  1.87s/it]"
     ]
    },
    {
     "name": "stdout",
     "output_type": "stream",
     "text": [
      "[((928, 424), (992, 488)), ((1024, 424), (1088, 488))]\n",
      "0.166666666667\n"
     ]
    },
    {
     "name": "stderr",
     "output_type": "stream",
     "text": [
      "\n",
      " 21%|████████████████▋                                                                | 26/126 [00:50<03:07,  1.87s/it]"
     ]
    },
    {
     "name": "stdout",
     "output_type": "stream",
     "text": [
      "[((928, 424), (992, 488)), ((992, 424), (1056, 488)), ((1024, 424), (1088, 488))]\n",
      "0.333333333333\n"
     ]
    },
    {
     "name": "stderr",
     "output_type": "stream",
     "text": [
      "\n",
      " 21%|█████████████████▎                                                               | 27/126 [00:52<03:16,  1.99s/it]"
     ]
    },
    {
     "name": "stdout",
     "output_type": "stream",
     "text": [
      "[((928, 424), (992, 488)), ((992, 424), (1056, 488)), ((1024, 424), (1088, 488))]\n",
      "0.333333333333\n"
     ]
    },
    {
     "name": "stderr",
     "output_type": "stream",
     "text": [
      "\n",
      " 22%|██████████████████                                                               | 28/126 [00:55<03:20,  2.04s/it]"
     ]
    },
    {
     "name": "stdout",
     "output_type": "stream",
     "text": [
      "[((928, 424), (992, 488)), ((992, 424), (1056, 488)), ((1024, 424), (1088, 488))]\n",
      "0.333333333333\n"
     ]
    },
    {
     "name": "stderr",
     "output_type": "stream",
     "text": [
      "\n",
      " 23%|██████████████████▋                                                              | 29/126 [00:57<03:21,  2.08s/it]"
     ]
    },
    {
     "name": "stdout",
     "output_type": "stream",
     "text": [
      "[((992, 424), (1056, 488)), ((1024, 424), (1088, 488))]\n",
      "0.333333333333\n"
     ]
    },
    {
     "name": "stderr",
     "output_type": "stream",
     "text": [
      "\n",
      " 24%|███████████████████▎                                                             | 30/126 [00:59<03:22,  2.11s/it]"
     ]
    },
    {
     "name": "stdout",
     "output_type": "stream",
     "text": [
      "[((928, 424), (992, 488)), ((992, 424), (1056, 488)), ((1024, 424), (1088, 488))]\n",
      "0.333333333333\n"
     ]
    },
    {
     "name": "stderr",
     "output_type": "stream",
     "text": [
      "\n",
      " 25%|███████████████████▉                                                             | 31/126 [01:01<03:17,  2.08s/it]"
     ]
    },
    {
     "name": "stdout",
     "output_type": "stream",
     "text": [
      "[((992, 424), (1056, 488)), ((1024, 424), (1088, 488))]\n",
      "0.333333333333\n"
     ]
    },
    {
     "name": "stderr",
     "output_type": "stream",
     "text": [
      "\n",
      " 25%|████████████████████▌                                                            | 32/126 [01:03<03:20,  2.13s/it]"
     ]
    },
    {
     "name": "stdout",
     "output_type": "stream",
     "text": [
      "[((992, 424), (1056, 488))]\n",
      "0.166666666667\n"
     ]
    },
    {
     "name": "stderr",
     "output_type": "stream",
     "text": [
      "\n",
      " 26%|█████████████████████▏                                                           | 33/126 [01:05<03:15,  2.10s/it]"
     ]
    },
    {
     "name": "stdout",
     "output_type": "stream",
     "text": [
      "[((992, 424), (1056, 488))]\n",
      "0.166666666667\n"
     ]
    },
    {
     "name": "stderr",
     "output_type": "stream",
     "text": [
      "\n",
      " 27%|█████████████████████▊                                                           | 34/126 [01:07<03:15,  2.13s/it]"
     ]
    },
    {
     "name": "stdout",
     "output_type": "stream",
     "text": [
      "[((960, 424), (1024, 488)), ((992, 424), (1056, 488))]\n",
      "0.333333333333\n"
     ]
    },
    {
     "name": "stderr",
     "output_type": "stream",
     "text": [
      "\n",
      " 28%|██████████████████████▌                                                          | 35/126 [01:09<03:09,  2.08s/it]"
     ]
    },
    {
     "name": "stdout",
     "output_type": "stream",
     "text": [
      "[((960, 424), (1024, 488)), ((992, 424), (1056, 488))]\n",
      "0.333333333333\n"
     ]
    },
    {
     "name": "stderr",
     "output_type": "stream",
     "text": [
      "\n",
      " 29%|███████████████████████▏                                                         | 36/126 [01:12<03:16,  2.18s/it]"
     ]
    },
    {
     "name": "stdout",
     "output_type": "stream",
     "text": [
      "[((960, 424), (1024, 488)), ((992, 424), (1056, 488))]\n",
      "0.333333333333\n"
     ]
    },
    {
     "name": "stderr",
     "output_type": "stream",
     "text": [
      "\n",
      " 29%|███████████████████████▊                                                         | 37/126 [01:14<03:07,  2.11s/it]"
     ]
    },
    {
     "name": "stdout",
     "output_type": "stream",
     "text": [
      "[((960, 424), (1024, 488)), ((992, 424), (1056, 488))]\n",
      "0.333333333333\n"
     ]
    },
    {
     "name": "stderr",
     "output_type": "stream",
     "text": [
      "\n",
      " 30%|████████████████████████▍                                                        | 38/126 [01:16<03:05,  2.11s/it]"
     ]
    },
    {
     "name": "stdout",
     "output_type": "stream",
     "text": [
      "[((992, 424), (1056, 488))]\n",
      "0.166666666667\n"
     ]
    },
    {
     "name": "stderr",
     "output_type": "stream",
     "text": [
      "\n",
      " 31%|█████████████████████████                                                        | 39/126 [01:18<03:04,  2.12s/it]"
     ]
    },
    {
     "name": "stdout",
     "output_type": "stream",
     "text": [
      "[((992, 424), (1056, 488))]\n",
      "0.166666666667\n"
     ]
    },
    {
     "name": "stderr",
     "output_type": "stream",
     "text": [
      "\n",
      " 32%|█████████████████████████▋                                                       | 40/126 [01:21<03:12,  2.24s/it]"
     ]
    },
    {
     "name": "stdout",
     "output_type": "stream",
     "text": [
      "[((992, 424), (1056, 488))]\n",
      "0.166666666667\n"
     ]
    },
    {
     "name": "stderr",
     "output_type": "stream",
     "text": [
      "\n",
      " 33%|██████████████████████████▎                                                      | 41/126 [01:23<03:07,  2.20s/it]"
     ]
    },
    {
     "name": "stdout",
     "output_type": "stream",
     "text": [
      "[((992, 424), (1056, 488))]\n",
      "0.166666666667\n"
     ]
    },
    {
     "name": "stderr",
     "output_type": "stream",
     "text": [
      "\n",
      " 33%|███████████████████████████                                                      | 42/126 [01:25<03:00,  2.15s/it]"
     ]
    },
    {
     "name": "stdout",
     "output_type": "stream",
     "text": [
      "[((992, 424), (1056, 488))]\n",
      "0.166666666667\n"
     ]
    },
    {
     "name": "stderr",
     "output_type": "stream",
     "text": [
      "\n",
      " 34%|███████████████████████████▋                                                     | 43/126 [01:27<03:07,  2.26s/it]"
     ]
    },
    {
     "name": "stdout",
     "output_type": "stream",
     "text": [
      "[((992, 424), (1056, 488))]\n",
      "0.166666666667\n"
     ]
    },
    {
     "name": "stderr",
     "output_type": "stream",
     "text": [
      "\n",
      " 35%|████████████████████████████▎                                                    | 44/126 [01:30<03:10,  2.32s/it]"
     ]
    },
    {
     "name": "stdout",
     "output_type": "stream",
     "text": [
      "[((992, 424), (1056, 488))]\n",
      "0.166666666667\n"
     ]
    },
    {
     "name": "stderr",
     "output_type": "stream",
     "text": [
      "\n",
      " 36%|████████████████████████████▉                                                    | 45/126 [01:32<02:59,  2.22s/it]"
     ]
    },
    {
     "name": "stdout",
     "output_type": "stream",
     "text": [
      "[((992, 424), (1056, 488))]\n",
      "0.166666666667\n"
     ]
    },
    {
     "name": "stderr",
     "output_type": "stream",
     "text": [
      "\n",
      " 37%|█████████████████████████████▌                                                   | 46/126 [01:34<02:48,  2.11s/it]"
     ]
    },
    {
     "name": "stdout",
     "output_type": "stream",
     "text": [
      "[((992, 424), (1056, 488))]\n",
      "0.166666666667\n"
     ]
    },
    {
     "name": "stderr",
     "output_type": "stream",
     "text": [
      "\n",
      " 37%|██████████████████████████████▏                                                  | 47/126 [01:35<02:40,  2.03s/it]"
     ]
    },
    {
     "name": "stdout",
     "output_type": "stream",
     "text": [
      "[((992, 424), (1056, 488))]\n",
      "0.166666666667\n"
     ]
    },
    {
     "name": "stderr",
     "output_type": "stream",
     "text": [
      "\n",
      " 38%|██████████████████████████████▊                                                  | 48/126 [01:37<02:35,  1.99s/it]"
     ]
    },
    {
     "name": "stdout",
     "output_type": "stream",
     "text": [
      "[((992, 424), (1056, 488))]\n",
      "0.166666666667\n"
     ]
    },
    {
     "name": "stderr",
     "output_type": "stream",
     "text": [
      "\n",
      " 39%|███████████████████████████████▌                                                 | 49/126 [01:39<02:30,  1.95s/it]"
     ]
    },
    {
     "name": "stdout",
     "output_type": "stream",
     "text": [
      "[((992, 424), (1056, 488))]\n",
      "0.166666666667\n"
     ]
    },
    {
     "name": "stderr",
     "output_type": "stream",
     "text": [
      "\n",
      " 40%|████████████████████████████████▏                                                | 50/126 [01:41<02:26,  1.93s/it]"
     ]
    },
    {
     "name": "stdout",
     "output_type": "stream",
     "text": [
      "[((992, 424), (1056, 488))]\n",
      "0.166666666667\n"
     ]
    },
    {
     "name": "stderr",
     "output_type": "stream",
     "text": [
      "\n",
      " 40%|████████████████████████████████▊                                                | 51/126 [01:43<02:25,  1.95s/it]"
     ]
    },
    {
     "name": "stdout",
     "output_type": "stream",
     "text": [
      "[((992, 424), (1056, 488))]\n",
      "0.166666666667\n"
     ]
    },
    {
     "name": "stderr",
     "output_type": "stream",
     "text": [
      "\n",
      " 41%|█████████████████████████████████▍                                               | 52/126 [01:45<02:25,  1.97s/it]"
     ]
    },
    {
     "name": "stdout",
     "output_type": "stream",
     "text": [
      "[((992, 424), (1056, 488))]\n",
      "0.166666666667\n"
     ]
    },
    {
     "name": "stderr",
     "output_type": "stream",
     "text": [
      "\n",
      " 42%|██████████████████████████████████                                               | 53/126 [01:48<02:36,  2.14s/it]"
     ]
    },
    {
     "name": "stdout",
     "output_type": "stream",
     "text": [
      "[((992, 424), (1056, 488))]\n",
      "0.166666666667\n"
     ]
    },
    {
     "name": "stderr",
     "output_type": "stream",
     "text": [
      "\n",
      " 43%|██████████████████████████████████▋                                              | 54/126 [01:50<02:33,  2.13s/it]"
     ]
    },
    {
     "name": "stdout",
     "output_type": "stream",
     "text": [
      "[((992, 424), (1056, 488))]\n",
      "0.166666666667\n"
     ]
    },
    {
     "name": "stderr",
     "output_type": "stream",
     "text": [
      "\n",
      " 44%|███████████████████████████████████▎                                             | 55/126 [01:52<02:34,  2.18s/it]"
     ]
    },
    {
     "name": "stdout",
     "output_type": "stream",
     "text": [
      "[((992, 424), (1056, 488))]\n",
      "0.166666666667\n"
     ]
    },
    {
     "name": "stderr",
     "output_type": "stream",
     "text": [
      "\n",
      " 44%|████████████████████████████████████                                             | 56/126 [01:54<02:30,  2.16s/it]"
     ]
    },
    {
     "name": "stdout",
     "output_type": "stream",
     "text": [
      "[((992, 424), (1056, 488))]\n",
      "0.166666666667\n"
     ]
    },
    {
     "name": "stderr",
     "output_type": "stream",
     "text": [
      "\n",
      " 45%|████████████████████████████████████▋                                            | 57/126 [01:56<02:25,  2.11s/it]"
     ]
    },
    {
     "name": "stdout",
     "output_type": "stream",
     "text": [
      "[((992, 424), (1056, 488))]\n",
      "0.166666666667\n"
     ]
    },
    {
     "name": "stderr",
     "output_type": "stream",
     "text": [
      "\n",
      " 46%|█████████████████████████████████████▎                                           | 58/126 [01:58<02:20,  2.07s/it]"
     ]
    },
    {
     "name": "stdout",
     "output_type": "stream",
     "text": [
      "[((992, 424), (1056, 488))]\n",
      "0.166666666667\n"
     ]
    },
    {
     "name": "stderr",
     "output_type": "stream",
     "text": [
      "\n",
      " 47%|█████████████████████████████████████▉                                           | 59/126 [02:00<02:23,  2.14s/it]"
     ]
    },
    {
     "name": "stdout",
     "output_type": "stream",
     "text": [
      "[((992, 424), (1056, 488))]\n",
      "0.166666666667\n"
     ]
    },
    {
     "name": "stderr",
     "output_type": "stream",
     "text": [
      "\n",
      " 48%|██████████████████████████████████████▌                                          | 60/126 [02:03<02:24,  2.19s/it]"
     ]
    },
    {
     "name": "stdout",
     "output_type": "stream",
     "text": [
      "[((992, 424), (1056, 488))]\n",
      "0.166666666667\n"
     ]
    },
    {
     "name": "stderr",
     "output_type": "stream",
     "text": [
      "\n",
      " 48%|███████████████████████████████████████▏                                         | 61/126 [02:04<02:14,  2.07s/it]"
     ]
    },
    {
     "name": "stdout",
     "output_type": "stream",
     "text": [
      "[((992, 424), (1056, 488))]\n",
      "0.166666666667\n"
     ]
    },
    {
     "name": "stderr",
     "output_type": "stream",
     "text": [
      "\n",
      " 49%|███████████████████████████████████████▊                                         | 62/126 [02:06<02:11,  2.06s/it]"
     ]
    },
    {
     "name": "stdout",
     "output_type": "stream",
     "text": [
      "[((992, 424), (1056, 488))]\n",
      "0.166666666667\n"
     ]
    },
    {
     "name": "stderr",
     "output_type": "stream",
     "text": [
      "\n",
      " 50%|████████████████████████████████████████▌                                        | 63/126 [02:09<02:10,  2.07s/it]"
     ]
    },
    {
     "name": "stdout",
     "output_type": "stream",
     "text": [
      "[((992, 424), (1056, 488))]\n",
      "0.166666666667\n"
     ]
    },
    {
     "name": "stderr",
     "output_type": "stream",
     "text": [
      "\n",
      " 51%|█████████████████████████████████████████▏                                       | 64/126 [02:10<02:04,  2.01s/it]"
     ]
    },
    {
     "name": "stdout",
     "output_type": "stream",
     "text": [
      "[((992, 424), (1056, 488))]\n",
      "0.166666666667\n"
     ]
    },
    {
     "name": "stderr",
     "output_type": "stream",
     "text": [
      "\n",
      " 52%|█████████████████████████████████████████▊                                       | 65/126 [02:12<02:00,  1.97s/it]"
     ]
    },
    {
     "name": "stdout",
     "output_type": "stream",
     "text": [
      "[((992, 424), (1056, 488))]\n",
      "0.166666666667\n"
     ]
    },
    {
     "name": "stderr",
     "output_type": "stream",
     "text": [
      "\n",
      " 52%|██████████████████████████████████████████▍                                      | 66/126 [02:14<01:57,  1.95s/it]"
     ]
    },
    {
     "name": "stdout",
     "output_type": "stream",
     "text": [
      "[((960, 424), (1024, 488)), ((992, 424), (1056, 488))]\n",
      "0.333333333333\n"
     ]
    },
    {
     "name": "stderr",
     "output_type": "stream",
     "text": [
      "\n",
      " 53%|███████████████████████████████████████████                                      | 67/126 [02:16<01:53,  1.92s/it]"
     ]
    },
    {
     "name": "stdout",
     "output_type": "stream",
     "text": [
      "[((960, 424), (1024, 488)), ((992, 424), (1056, 488))]\n",
      "0.333333333333\n"
     ]
    },
    {
     "name": "stderr",
     "output_type": "stream",
     "text": [
      "\n",
      " 54%|███████████████████████████████████████████▋                                     | 68/126 [02:18<01:53,  1.95s/it]"
     ]
    },
    {
     "name": "stdout",
     "output_type": "stream",
     "text": [
      "[((960, 424), (1024, 488)), ((992, 424), (1056, 488))]\n",
      "0.333333333333\n"
     ]
    },
    {
     "name": "stderr",
     "output_type": "stream",
     "text": [
      "\n",
      " 55%|████████████████████████████████████████████▎                                    | 69/126 [02:20<01:57,  2.07s/it]"
     ]
    },
    {
     "name": "stdout",
     "output_type": "stream",
     "text": [
      "[((960, 424), (1024, 488)), ((992, 424), (1056, 488))]\n",
      "0.333333333333\n"
     ]
    },
    {
     "name": "stderr",
     "output_type": "stream",
     "text": [
      "\n",
      " 56%|█████████████████████████████████████████████                                    | 70/126 [02:23<01:58,  2.12s/it]"
     ]
    },
    {
     "name": "stdout",
     "output_type": "stream",
     "text": [
      "[((960, 424), (1024, 488)), ((992, 424), (1056, 488))]\n",
      "0.333333333333\n"
     ]
    },
    {
     "name": "stderr",
     "output_type": "stream",
     "text": [
      "\n",
      " 56%|█████████████████████████████████████████████▋                                   | 71/126 [02:25<01:54,  2.08s/it]"
     ]
    },
    {
     "name": "stdout",
     "output_type": "stream",
     "text": [
      "[((960, 424), (1024, 488)), ((992, 424), (1056, 488))]\n",
      "0.333333333333\n"
     ]
    },
    {
     "name": "stderr",
     "output_type": "stream",
     "text": [
      "\n",
      " 57%|██████████████████████████████████████████████▎                                  | 72/126 [02:27<01:55,  2.15s/it]"
     ]
    },
    {
     "name": "stdout",
     "output_type": "stream",
     "text": [
      "[((960, 424), (1024, 488)), ((992, 424), (1056, 488))]\n",
      "0.333333333333\n"
     ]
    },
    {
     "name": "stderr",
     "output_type": "stream",
     "text": [
      "\n",
      " 58%|██████████████████████████████████████████████▉                                  | 73/126 [02:29<01:54,  2.16s/it]"
     ]
    },
    {
     "name": "stdout",
     "output_type": "stream",
     "text": [
      "[((960, 424), (1024, 488))]\n",
      "0.166666666667\n"
     ]
    },
    {
     "name": "stderr",
     "output_type": "stream",
     "text": [
      "\n",
      " 59%|███████████████████████████████████████████████▌                                 | 74/126 [02:31<01:49,  2.10s/it]"
     ]
    },
    {
     "name": "stdout",
     "output_type": "stream",
     "text": [
      "[((960, 424), (1024, 488))]\n",
      "0.166666666667\n"
     ]
    },
    {
     "name": "stderr",
     "output_type": "stream",
     "text": [
      "\n",
      " 60%|████████████████████████████████████████████████▏                                | 75/126 [02:33<01:44,  2.06s/it]"
     ]
    },
    {
     "name": "stdout",
     "output_type": "stream",
     "text": [
      "[((960, 424), (1024, 488))]\n",
      "0.166666666667\n"
     ]
    },
    {
     "name": "stderr",
     "output_type": "stream",
     "text": [
      "\n",
      " 60%|████████████████████████████████████████████████▊                                | 76/126 [02:35<01:42,  2.06s/it]"
     ]
    },
    {
     "name": "stdout",
     "output_type": "stream",
     "text": [
      "[((960, 424), (1024, 488)), ((992, 424), (1056, 488))]\n",
      "0.333333333333\n"
     ]
    },
    {
     "name": "stderr",
     "output_type": "stream",
     "text": [
      "\n",
      " 61%|█████████████████████████████████████████████████▌                               | 77/126 [02:38<01:46,  2.17s/it]"
     ]
    },
    {
     "name": "stdout",
     "output_type": "stream",
     "text": [
      "[((960, 424), (1024, 488)), ((992, 424), (1056, 488))]\n",
      "0.333333333333\n"
     ]
    },
    {
     "name": "stderr",
     "output_type": "stream",
     "text": [
      "\n",
      " 62%|██████████████████████████████████████████████████▏                              | 78/126 [02:40<01:44,  2.18s/it]"
     ]
    },
    {
     "name": "stdout",
     "output_type": "stream",
     "text": [
      "[((960, 424), (1024, 488)), ((992, 424), (1056, 488))]\n",
      "0.333333333333\n"
     ]
    },
    {
     "name": "stderr",
     "output_type": "stream",
     "text": [
      "\n",
      " 63%|██████████████████████████████████████████████████▊                              | 79/126 [02:42<01:44,  2.22s/it]"
     ]
    },
    {
     "name": "stdout",
     "output_type": "stream",
     "text": [
      "[((960, 424), (1024, 488)), ((992, 424), (1056, 488))]\n",
      "0.333333333333\n"
     ]
    },
    {
     "name": "stderr",
     "output_type": "stream",
     "text": [
      "\n",
      " 63%|███████████████████████████████████████████████████▍                             | 80/126 [02:44<01:44,  2.27s/it]"
     ]
    },
    {
     "name": "stdout",
     "output_type": "stream",
     "text": [
      "[((960, 424), (1024, 488)), ((992, 424), (1056, 488))]\n",
      "0.333333333333\n"
     ]
    },
    {
     "name": "stderr",
     "output_type": "stream",
     "text": [
      "\n",
      " 64%|████████████████████████████████████████████████████                             | 81/126 [02:47<01:40,  2.23s/it]"
     ]
    },
    {
     "name": "stdout",
     "output_type": "stream",
     "text": [
      "[((960, 424), (1024, 488)), ((992, 424), (1056, 488))]\n",
      "0.333333333333\n"
     ]
    },
    {
     "name": "stderr",
     "output_type": "stream",
     "text": [
      "\n",
      " 65%|████████████████████████████████████████████████████▋                            | 82/126 [02:49<01:37,  2.22s/it]"
     ]
    },
    {
     "name": "stdout",
     "output_type": "stream",
     "text": [
      "[((960, 424), (1024, 488)), ((992, 424), (1056, 488))]\n",
      "0.333333333333\n"
     ]
    },
    {
     "name": "stderr",
     "output_type": "stream",
     "text": [
      "\n",
      " 66%|█████████████████████████████████████████████████████▎                           | 83/126 [02:51<01:33,  2.18s/it]"
     ]
    },
    {
     "name": "stdout",
     "output_type": "stream",
     "text": [
      "[((960, 424), (1024, 488)), ((992, 424), (1056, 488))]\n",
      "0.333333333333\n"
     ]
    },
    {
     "name": "stderr",
     "output_type": "stream",
     "text": [
      "\n",
      " 67%|██████████████████████████████████████████████████████                           | 84/126 [02:53<01:31,  2.18s/it]"
     ]
    },
    {
     "name": "stdout",
     "output_type": "stream",
     "text": [
      "[((960, 424), (1024, 488)), ((992, 424), (1056, 488))]\n",
      "0.333333333333\n"
     ]
    },
    {
     "name": "stderr",
     "output_type": "stream",
     "text": [
      "\n",
      " 67%|██████████████████████████████████████████████████████▋                          | 85/126 [02:55<01:29,  2.18s/it]"
     ]
    },
    {
     "name": "stdout",
     "output_type": "stream",
     "text": [
      "[((960, 424), (1024, 488))]\n",
      "0.166666666667\n"
     ]
    },
    {
     "name": "stderr",
     "output_type": "stream",
     "text": [
      "\n",
      " 68%|███████████████████████████████████████████████████████▎                         | 86/126 [02:58<01:38,  2.45s/it]"
     ]
    },
    {
     "name": "stdout",
     "output_type": "stream",
     "text": [
      "[((960, 424), (1024, 488))]\n",
      "0.166666666667\n"
     ]
    },
    {
     "name": "stderr",
     "output_type": "stream",
     "text": [
      "\n",
      " 69%|███████████████████████████████████████████████████████▉                         | 87/126 [03:00<01:31,  2.34s/it]"
     ]
    },
    {
     "name": "stdout",
     "output_type": "stream",
     "text": [
      "[((960, 424), (1024, 488))]\n",
      "0.166666666667\n"
     ]
    },
    {
     "name": "stderr",
     "output_type": "stream",
     "text": [
      "\n",
      " 70%|████████████████████████████████████████████████████████▌                        | 88/126 [03:03<01:26,  2.28s/it]"
     ]
    },
    {
     "name": "stdout",
     "output_type": "stream",
     "text": [
      "[((960, 424), (1024, 488))]\n",
      "0.166666666667\n"
     ]
    },
    {
     "name": "stderr",
     "output_type": "stream",
     "text": [
      "\n",
      " 71%|█████████████████████████████████████████████████████████▏                       | 89/126 [03:05<01:23,  2.26s/it]"
     ]
    },
    {
     "name": "stdout",
     "output_type": "stream",
     "text": [
      "[((960, 424), (1024, 488))]\n",
      "0.166666666667\n"
     ]
    },
    {
     "name": "stderr",
     "output_type": "stream",
     "text": [
      "\n",
      " 71%|█████████████████████████████████████████████████████████▊                       | 90/126 [03:07<01:21,  2.26s/it]"
     ]
    },
    {
     "name": "stdout",
     "output_type": "stream",
     "text": [
      "[((960, 424), (1024, 488))]\n",
      "0.166666666667\n"
     ]
    },
    {
     "name": "stderr",
     "output_type": "stream",
     "text": [
      "\n",
      " 72%|██████████████████████████████████████████████████████████▌                      | 91/126 [03:09<01:18,  2.25s/it]"
     ]
    },
    {
     "name": "stdout",
     "output_type": "stream",
     "text": [
      "[((960, 424), (1024, 488))]\n",
      "0.166666666667\n"
     ]
    },
    {
     "name": "stderr",
     "output_type": "stream",
     "text": [
      "\n",
      " 73%|███████████████████████████████████████████████████████████▏                     | 92/126 [03:11<01:14,  2.18s/it]"
     ]
    },
    {
     "name": "stdout",
     "output_type": "stream",
     "text": [
      "[((928, 424), (992, 488)), ((960, 424), (1024, 488))]\n",
      "0.333333333333\n"
     ]
    },
    {
     "name": "stderr",
     "output_type": "stream",
     "text": [
      "\n",
      " 74%|███████████████████████████████████████████████████████████▊                     | 93/126 [03:13<01:11,  2.16s/it]"
     ]
    },
    {
     "name": "stdout",
     "output_type": "stream",
     "text": [
      "[((960, 424), (1024, 488))]\n",
      "0.166666666667\n"
     ]
    },
    {
     "name": "stderr",
     "output_type": "stream",
     "text": [
      "\n",
      " 75%|████████████████████████████████████████████████████████████▍                    | 94/126 [03:16<01:08,  2.15s/it]"
     ]
    },
    {
     "name": "stdout",
     "output_type": "stream",
     "text": [
      "[((960, 424), (1024, 488))]\n",
      "0.166666666667\n"
     ]
    },
    {
     "name": "stderr",
     "output_type": "stream",
     "text": [
      "\n",
      " 75%|█████████████████████████████████████████████████████████████                    | 95/126 [03:18<01:06,  2.14s/it]"
     ]
    },
    {
     "name": "stdout",
     "output_type": "stream",
     "text": [
      "[((960, 424), (1024, 488))]\n",
      "0.166666666667\n"
     ]
    },
    {
     "name": "stderr",
     "output_type": "stream",
     "text": [
      "\n",
      " 76%|█████████████████████████████████████████████████████████████▋                   | 96/126 [03:20<01:03,  2.11s/it]"
     ]
    },
    {
     "name": "stdout",
     "output_type": "stream",
     "text": [
      "[((960, 424), (1024, 488))]\n",
      "0.166666666667\n"
     ]
    },
    {
     "name": "stderr",
     "output_type": "stream",
     "text": [
      "\n",
      " 77%|██████████████████████████████████████████████████████████████▎                  | 97/126 [03:22<01:00,  2.10s/it]"
     ]
    },
    {
     "name": "stdout",
     "output_type": "stream",
     "text": [
      "[((960, 424), (1024, 488))]\n",
      "0.166666666667\n"
     ]
    },
    {
     "name": "stderr",
     "output_type": "stream",
     "text": [
      "\n",
      " 78%|███████████████████████████████████████████████████████████████                  | 98/126 [03:24<00:57,  2.06s/it]"
     ]
    },
    {
     "name": "stdout",
     "output_type": "stream",
     "text": [
      "[((928, 424), (992, 488)), ((960, 424), (1024, 488))]\n",
      "0.333333333333\n"
     ]
    },
    {
     "name": "stderr",
     "output_type": "stream",
     "text": [
      "\n",
      " 79%|███████████████████████████████████████████████████████████████▋                 | 99/126 [03:26<00:55,  2.04s/it]"
     ]
    },
    {
     "name": "stdout",
     "output_type": "stream",
     "text": [
      "[((960, 424), (1024, 488))]\n",
      "0.166666666667\n"
     ]
    },
    {
     "name": "stderr",
     "output_type": "stream",
     "text": [
      "\n",
      " 79%|███████████████████████████████████████████████████████████████▍                | 100/126 [03:28<00:52,  2.03s/it]"
     ]
    },
    {
     "name": "stdout",
     "output_type": "stream",
     "text": [
      "[((928, 424), (992, 488)), ((960, 424), (1024, 488))]\n",
      "0.333333333333\n"
     ]
    },
    {
     "name": "stderr",
     "output_type": "stream",
     "text": [
      "\n",
      " 80%|████████████████████████████████████████████████████████████████▏               | 101/126 [03:30<00:52,  2.09s/it]"
     ]
    },
    {
     "name": "stdout",
     "output_type": "stream",
     "text": [
      "[((960, 424), (1024, 488))]\n",
      "0.166666666667\n"
     ]
    },
    {
     "name": "stderr",
     "output_type": "stream",
     "text": [
      "\n",
      " 81%|████████████████████████████████████████████████████████████████▊               | 102/126 [03:32<00:49,  2.05s/it]"
     ]
    },
    {
     "name": "stdout",
     "output_type": "stream",
     "text": [
      "[((960, 424), (1024, 488))]\n",
      "0.166666666667\n"
     ]
    },
    {
     "name": "stderr",
     "output_type": "stream",
     "text": [
      "\n",
      " 82%|█████████████████████████████████████████████████████████████████▍              | 103/126 [03:34<00:46,  2.00s/it]"
     ]
    },
    {
     "name": "stdout",
     "output_type": "stream",
     "text": [
      "[((960, 424), (1024, 488))]\n",
      "0.166666666667\n"
     ]
    },
    {
     "name": "stderr",
     "output_type": "stream",
     "text": [
      "\n",
      " 83%|██████████████████████████████████████████████████████████████████              | 104/126 [03:36<00:45,  2.09s/it]"
     ]
    },
    {
     "name": "stdout",
     "output_type": "stream",
     "text": [
      "[((960, 424), (1024, 488))]\n",
      "0.166666666667\n"
     ]
    },
    {
     "name": "stderr",
     "output_type": "stream",
     "text": [
      "\n",
      " 83%|██████████████████████████████████████████████████████████████████▋             | 105/126 [03:38<00:42,  2.02s/it]"
     ]
    },
    {
     "name": "stdout",
     "output_type": "stream",
     "text": [
      "[((960, 424), (1024, 488))]\n",
      "0.166666666667\n"
     ]
    },
    {
     "name": "stderr",
     "output_type": "stream",
     "text": [
      "\n",
      " 84%|███████████████████████████████████████████████████████████████████▎            | 106/126 [03:40<00:39,  1.95s/it]"
     ]
    },
    {
     "name": "stdout",
     "output_type": "stream",
     "text": [
      "[((960, 424), (1024, 488))]\n",
      "0.166666666667\n"
     ]
    },
    {
     "name": "stderr",
     "output_type": "stream",
     "text": [
      "\n",
      " 85%|███████████████████████████████████████████████████████████████████▉            | 107/126 [03:42<00:39,  2.06s/it]"
     ]
    },
    {
     "name": "stdout",
     "output_type": "stream",
     "text": [
      "[((960, 424), (1024, 488))]\n",
      "0.166666666667\n"
     ]
    },
    {
     "name": "stderr",
     "output_type": "stream",
     "text": [
      "\n",
      " 86%|████████████████████████████████████████████████████████████████████▌           | 108/126 [03:44<00:36,  2.03s/it]"
     ]
    },
    {
     "name": "stdout",
     "output_type": "stream",
     "text": [
      "[((960, 424), (1024, 488))]\n",
      "0.166666666667\n"
     ]
    },
    {
     "name": "stderr",
     "output_type": "stream",
     "text": [
      "\n",
      " 87%|█████████████████████████████████████████████████████████████████████▏          | 109/126 [03:46<00:35,  2.07s/it]"
     ]
    },
    {
     "name": "stdout",
     "output_type": "stream",
     "text": [
      "[((960, 424), (1024, 488))]\n",
      "0.166666666667\n"
     ]
    },
    {
     "name": "stderr",
     "output_type": "stream",
     "text": [
      "\n",
      " 87%|█████████████████████████████████████████████████████████████████████▊          | 110/126 [03:48<00:34,  2.14s/it]"
     ]
    },
    {
     "name": "stdout",
     "output_type": "stream",
     "text": [
      "[((960, 424), (1024, 488))]\n",
      "0.166666666667\n"
     ]
    },
    {
     "name": "stderr",
     "output_type": "stream",
     "text": [
      "\n",
      " 88%|██████████████████████████████████████████████████████████████████████▍         | 111/126 [03:51<00:31,  2.11s/it]"
     ]
    },
    {
     "name": "stdout",
     "output_type": "stream",
     "text": [
      "[((960, 424), (1024, 488))]\n",
      "0.166666666667\n"
     ]
    },
    {
     "name": "stderr",
     "output_type": "stream",
     "text": [
      "\n",
      " 89%|███████████████████████████████████████████████████████████████████████         | 112/126 [03:53<00:30,  2.19s/it]"
     ]
    },
    {
     "name": "stdout",
     "output_type": "stream",
     "text": [
      "[((960, 424), (1024, 488))]\n",
      "0.166666666667\n"
     ]
    },
    {
     "name": "stderr",
     "output_type": "stream",
     "text": [
      "\n",
      " 90%|███████████████████████████████████████████████████████████████████████▋        | 113/126 [03:55<00:28,  2.17s/it]"
     ]
    },
    {
     "name": "stdout",
     "output_type": "stream",
     "text": [
      "[((960, 424), (1024, 488))]\n",
      "0.166666666667\n"
     ]
    },
    {
     "name": "stderr",
     "output_type": "stream",
     "text": [
      "\n",
      " 90%|████████████████████████████████████████████████████████████████████████▍       | 114/126 [03:57<00:24,  2.08s/it]"
     ]
    },
    {
     "name": "stdout",
     "output_type": "stream",
     "text": [
      "[((960, 424), (1024, 488))]\n",
      "0.166666666667\n"
     ]
    },
    {
     "name": "stderr",
     "output_type": "stream",
     "text": [
      "\n",
      " 91%|█████████████████████████████████████████████████████████████████████████       | 115/126 [03:59<00:22,  2.03s/it]"
     ]
    },
    {
     "name": "stdout",
     "output_type": "stream",
     "text": [
      "[((960, 424), (1024, 488))]\n",
      "0.166666666667\n"
     ]
    },
    {
     "name": "stderr",
     "output_type": "stream",
     "text": [
      "\n",
      " 92%|█████████████████████████████████████████████████████████████████████████▋      | 116/126 [04:01<00:20,  2.04s/it]"
     ]
    },
    {
     "name": "stdout",
     "output_type": "stream",
     "text": [
      "[((960, 424), (1024, 488))]\n",
      "0.166666666667\n"
     ]
    },
    {
     "name": "stderr",
     "output_type": "stream",
     "text": [
      "\n",
      " 93%|██████████████████████████████████████████████████████████████████████████▎     | 117/126 [04:03<00:18,  2.06s/it]"
     ]
    },
    {
     "name": "stdout",
     "output_type": "stream",
     "text": [
      "[((960, 424), (1024, 488))]\n",
      "0.166666666667\n"
     ]
    },
    {
     "name": "stderr",
     "output_type": "stream",
     "text": [
      "\n",
      " 94%|██████████████████████████████████████████████████████████████████████████▉     | 118/126 [04:05<00:17,  2.15s/it]"
     ]
    },
    {
     "name": "stdout",
     "output_type": "stream",
     "text": [
      "[((960, 424), (1024, 488))]\n",
      "0.166666666667\n"
     ]
    },
    {
     "name": "stderr",
     "output_type": "stream",
     "text": [
      "\n",
      " 94%|███████████████████████████████████████████████████████████████████████████▌    | 119/126 [04:07<00:14,  2.10s/it]"
     ]
    },
    {
     "name": "stdout",
     "output_type": "stream",
     "text": [
      "[((960, 424), (1024, 488))]\n",
      "0.166666666667\n"
     ]
    },
    {
     "name": "stderr",
     "output_type": "stream",
     "text": [
      "\n",
      " 95%|████████████████████████████████████████████████████████████████████████████▏   | 120/126 [04:09<00:12,  2.07s/it]"
     ]
    },
    {
     "name": "stdout",
     "output_type": "stream",
     "text": [
      "[((960, 424), (1024, 488))]\n",
      "0.166666666667\n"
     ]
    },
    {
     "name": "stderr",
     "output_type": "stream",
     "text": [
      "\n",
      " 96%|████████████████████████████████████████████████████████████████████████████▊   | 121/126 [04:11<00:10,  2.10s/it]"
     ]
    },
    {
     "name": "stdout",
     "output_type": "stream",
     "text": [
      "[((960, 424), (1024, 488))]\n",
      "0.166666666667\n"
     ]
    },
    {
     "name": "stderr",
     "output_type": "stream",
     "text": [
      "\n",
      " 97%|█████████████████████████████████████████████████████████████████████████████▍  | 122/126 [04:14<00:08,  2.10s/it]"
     ]
    },
    {
     "name": "stdout",
     "output_type": "stream",
     "text": [
      "[((960, 424), (1024, 488))]\n",
      "0.166666666667\n"
     ]
    },
    {
     "name": "stderr",
     "output_type": "stream",
     "text": [
      "\n",
      " 98%|██████████████████████████████████████████████████████████████████████████████  | 123/126 [04:16<00:06,  2.28s/it]"
     ]
    },
    {
     "name": "stdout",
     "output_type": "stream",
     "text": [
      "[((960, 424), (1024, 488))]\n",
      "0.166666666667\n"
     ]
    },
    {
     "name": "stderr",
     "output_type": "stream",
     "text": [
      "\n",
      " 98%|██████████████████████████████████████████████████████████████████████████████▋ | 124/126 [04:19<00:04,  2.36s/it]"
     ]
    },
    {
     "name": "stdout",
     "output_type": "stream",
     "text": [
      "[((960, 424), (1024, 488))]\n",
      "0.166666666667\n"
     ]
    },
    {
     "name": "stderr",
     "output_type": "stream",
     "text": [
      "\n",
      " 99%|███████████████████████████████████████████████████████████████████████████████▎| 125/126 [04:21<00:02,  2.34s/it]\n"
     ]
    },
    {
     "name": "stdout",
     "output_type": "stream",
     "text": [
      "[MoviePy] Done.\n",
      "[MoviePy] >>>> Video ready: project_video_with_detected_vehicles.mp4 \n",
      "\n",
      "Wall time: 4min 22s\n"
     ]
    }
   ],
   "source": [
    "detectVehicles('project_video')"
   ]
  },
  {
   "cell_type": "code",
   "execution_count": null,
   "metadata": {},
   "outputs": [],
   "source": []
  }
 ],
 "metadata": {
  "kernelspec": {
   "display_name": "Python 3",
   "language": "python",
   "name": "python3"
  },
  "language_info": {
   "codemirror_mode": {
    "name": "ipython",
    "version": 3
   },
   "file_extension": ".py",
   "mimetype": "text/x-python",
   "name": "python",
   "nbconvert_exporter": "python",
   "pygments_lexer": "ipython3",
   "version": "3.5.2"
  },
  "widgets": {
   "state": {},
   "version": "1.1.2"
  }
 },
 "nbformat": 4,
 "nbformat_minor": 2
}
