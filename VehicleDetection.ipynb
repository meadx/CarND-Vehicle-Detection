{
 "cells": [
  {
   "cell_type": "markdown",
   "metadata": {},
   "source": [
    "# Vehicle Detection\n",
    "### by Kilian Muelken"
   ]
  },
  {
   "cell_type": "markdown",
   "metadata": {},
   "source": [
    "---\n",
    "#### Code Cell 1: necessary imports for the code"
   ]
  },
  {
   "cell_type": "code",
   "execution_count": 63,
   "metadata": {},
   "outputs": [],
   "source": [
    "import numpy as np\n",
    "import cv2\n",
    "import glob\n",
    "from skimage.feature import hog\n",
    "from moviepy.editor import VideoFileClip\n",
    "from sklearn.cross_validation import train_test_split\n",
    "from sklearn.svm import LinearSVC\n",
    "from sklearn.preprocessing import StandardScaler\n",
    "import matplotlib.pyplot as plt"
   ]
  },
  {
   "cell_type": "markdown",
   "metadata": {},
   "source": [
    "___\n",
    "## Part 1: Vehicle detection functions\n",
    "*Functions for the vehicle Detection*"
   ]
  },
  {
   "cell_type": "markdown",
   "metadata": {},
   "source": [
    "### Part 1.1: Common functions"
   ]
  },
  {
   "cell_type": "markdown",
   "metadata": {},
   "source": [
    "___\n",
    "#### Code Cell ?: Calculate sliding windows\n",
    "**Input:** image, start and stop positions in both x and y, window size (x and y dimensions),  and overlap fraction (for both x and y)<br>\n",
    "**Output:** List of sliding windows"
   ]
  },
  {
   "cell_type": "code",
   "execution_count": 74,
   "metadata": {},
   "outputs": [],
   "source": [
    "def calcSlideWindows(img):\n",
    "    x_start = 0\n",
    "    x_stop = img.shape[1]\n",
    "    y_start = int(img.shape[0] * 0.5) # should be the highest place in the image, where cars can be seen\n",
    "    y_stop = img.shape[0] * 1 # above the bonnet\n",
    "    xy_window=(64, 64)\n",
    "    xy_overlap=(0.5, 0.5)\n",
    "        \n",
    "    # Compute the span of the region to be searched    \n",
    "    xspan = x_stop - x_start\n",
    "    yspan = y_stop - y_start\n",
    "    \n",
    "    # Compute the number of pixels per step in x/y\n",
    "    nx_pix_per_step = np.int(xy_window[0]*(1 - xy_overlap[0]))\n",
    "    ny_pix_per_step = np.int(xy_window[1]*(1 - xy_overlap[1]))\n",
    "    \n",
    "    # Compute the number of windows in x/y\n",
    "    nx_buffer = np.int(xy_window[0]*(xy_overlap[0]))\n",
    "    ny_buffer = np.int(xy_window[1]*(xy_overlap[1]))\n",
    "    nx_windows = np.int((xspan-nx_buffer)/nx_pix_per_step) \n",
    "    ny_windows = np.int((yspan-ny_buffer)/ny_pix_per_step) \n",
    "    \n",
    "    # Initialize a list to append window positions to\n",
    "    slidingWindows = []\n",
    "    \n",
    "    # Loop through finding x and y window positions\n",
    "    for ys in range(ny_windows):\n",
    "        for xs in range(nx_windows):\n",
    "            # Calculate window position\n",
    "            startx = xs*nx_pix_per_step + x_start\n",
    "            endx = startx + xy_window[0]\n",
    "            starty = ys*ny_pix_per_step + y_start\n",
    "            endy = starty + xy_window[1]\n",
    "            \n",
    "            # Append window position to list\n",
    "            slidingWindows.append(((startx, starty), (endx, endy)))\n",
    "    \n",
    "    # Return the list of windows\n",
    "    return slidingWindows"
   ]
  },
  {
   "cell_type": "markdown",
   "metadata": {},
   "source": [
    "___\n",
    "#### Code Cell ?: Draw bounding boxes\n",
    "**Input:** image to draw the boxes, position and size of the boxes<br>\n",
    "**Output:** image with boxes drawn"
   ]
  },
  {
   "cell_type": "code",
   "execution_count": 3,
   "metadata": {},
   "outputs": [],
   "source": [
    "def drawBoxes(img, bboxes):\n",
    "    color = (0, 0, 255) # Color of the boxes is blue\n",
    "    thick = 6  # thickness of the boxes\n",
    "    \n",
    "    img_boxes = np.copy(img) # Make a copy of the image\n",
    "    \n",
    "    for bbox in bboxes: # Iterate through the bounding boxes\n",
    "        cv2.rectangle(img_boxes, bbox[0], bbox[1], color, thick) # Draw a rectangle given bbox coordinates\n",
    "        \n",
    "    return img_boxes # return the image with boxes drawn"
   ]
  },
  {
   "cell_type": "markdown",
   "metadata": {},
   "source": [
    "___\n",
    "#### Code Cell ?: Plot and save images\n",
    "**Input:** list of images<br>\n",
    "**Output:** plots and saves images"
   ]
  },
  {
   "cell_type": "code",
   "execution_count": 4,
   "metadata": {},
   "outputs": [],
   "source": [
    "def plotImage(img_list, save=False):\n",
    "    n_img = len(img_list)\n",
    "    n_plot = 101 + n_img*10\n",
    "    \n",
    "    plt.figure(figsize=(20,5))\n",
    "    \n",
    "    for i in range(n_img):\n",
    "        # plot image\n",
    "        plt.subplot(n_plot+i) # source: https://stackoverflow.com/questions/35692507/plot-several-image-files-in-matplotlib-subplots\n",
    "        plt.imshow(img_list[i])\n",
    "        \n",
    "        # save image if save=true\n",
    "        if save:\n",
    "            #img_BGR = cv2.cvtColor(img_list[i],cv2.COLOR_RGB2BGR)\n",
    "            img_name = 'image_'+time.strftime('%m_%Y_%H_%M_%S')+'.jpg'\n",
    "            mpimg.imsave('output_images/'+img_name, img)"
   ]
  },
  {
   "cell_type": "markdown",
   "metadata": {},
   "source": [
    "#### Code Cell ?: Read test images\n",
    "**Input:** path of the test images<br>\n",
    "**Output:** images with marked detected vehicles"
   ]
  },
  {
   "cell_type": "code",
   "execution_count": 81,
   "metadata": {},
   "outputs": [],
   "source": [
    "def readImages(path):\n",
    "    images = []\n",
    "    images_list = glob.glob(path) # Make a list of calibration images\n",
    "\n",
    "    # Step through the list, read test images and convert them to RGB\n",
    "    for fname in images_list:\n",
    "        img = cv2.imread(fname)\n",
    "        rgb = cv2.cvtColor(img,cv2.COLOR_BGR2RGB)\n",
    "        images.append(rgb)\n",
    "    return images"
   ]
  },
  {
   "cell_type": "markdown",
   "metadata": {},
   "source": [
    "___\n",
    "### Part 1.2: Feature functions"
   ]
  },
  {
   "cell_type": "markdown",
   "metadata": {},
   "source": [
    "___\n",
    "#### Code Cell ?: Compute HOG features\n",
    "**Input:** Image<br>\n",
    "**Output:** HOG features"
   ]
  },
  {
   "cell_type": "code",
   "execution_count": 51,
   "metadata": {},
   "outputs": [],
   "source": [
    "def hogFeatures(img):\n",
    "    orientations = 9\n",
    "    pix_per_cell = 8\n",
    "    pixels_per_cell=(pix_per_cell, pix_per_cell)\n",
    "    cell_per_block = 2\n",
    "    cells_per_block=(cell_per_block, cell_per_block)\n",
    "    block_norm = 'L2-Hys'\n",
    "    transform_sqrt = True\n",
    "    visualise = False\n",
    "    feature_vector = True\n",
    "    hog_channel = 0\n",
    "    \n",
    "    img_hog = img[:,:,hog_channel]\n",
    "    \n",
    "    if hog_channel == 'ALL':\n",
    "        hog_features = []\n",
    "        for channel in range(feature_image.shape[2]):\n",
    "            hog_features.append(hog(img[:,:,channel], orientations, pixels_per_cell, cells_per_block, block_norm, transform_sqrt, visualise, feature_vector))\n",
    "        features = np.ravel(hog_features)        \n",
    "    else:\n",
    "        #features = hog(img_hog, orientations, pixels_per_cell, cells_per_block, block_norm, transform_sqrt, visualise, feature_vector)\n",
    "        features = hog(img_hog, orientations=orientations, \n",
    "                       pixels_per_cell=(pix_per_cell, pix_per_cell),\n",
    "                       cells_per_block=(cell_per_block, cell_per_block), \n",
    "                       block_norm= 'L2-Hys',\n",
    "                       transform_sqrt=True, \n",
    "                       visualise=visualise, feature_vector=feature_vector)\n",
    "    return features"
   ]
  },
  {
   "cell_type": "markdown",
   "metadata": {},
   "source": [
    "___\n",
    "#### Code Cell ?: Compute binned color features \n",
    "**Input:** Image<br>\n",
    "**Output:** binned color features"
   ]
  },
  {
   "cell_type": "code",
   "execution_count": 7,
   "metadata": {},
   "outputs": [],
   "source": [
    "def binSpatial(img):\n",
    "    size=(32, 32)\n",
    "    \n",
    "    # Use cv2.resize().ravel() to create the feature vector\n",
    "    features = cv2.resize(img, size).ravel() \n",
    "    \n",
    "    # Return the feature vector\n",
    "    return features"
   ]
  },
  {
   "cell_type": "markdown",
   "metadata": {},
   "source": [
    "___\n",
    "#### Code Cell ?: Compute color histogram features \n",
    "**Input:** Image<br>\n",
    "**Output:** binned color features"
   ]
  },
  {
   "cell_type": "code",
   "execution_count": 87,
   "metadata": {},
   "outputs": [],
   "source": [
    "def colorHist(img):\n",
    "    nbins=32\n",
    "    bins_range=(0, 256) # NEED TO CHANGE bins_range if reading .png files with mpimg!\n",
    "    \n",
    "    print(img.shape)\n",
    "    #print(img[:,:,0].shape)\n",
    "    \n",
    "    # Compute the histogram of the color channels separately\n",
    "    channel1_hist = np.histogram(img[:,:,0], bins=nbins, range=bins_range)\n",
    "    channel2_hist = np.histogram(img[:,:,1], bins=nbins, range=bins_range)\n",
    "    channel3_hist = np.histogram(img[:,:,2], bins=nbins, range=bins_range)\n",
    "    \n",
    "    # Concatenate the histograms into a single feature vector\n",
    "    features = np.concatenate((channel1_hist[0], channel2_hist[0], channel3_hist[0]))\n",
    "    \n",
    "    # Return the individual histograms, bin_centers and feature vector\n",
    "    return features"
   ]
  },
  {
   "cell_type": "markdown",
   "metadata": {},
   "source": [
    "___\n",
    "#### Code Cell ?: Extract features \n",
    "*Uses hogFeatures(), binSpatial() and colorHist()*\n",
    "**Input:** Image<br>\n",
    "**Output:** features"
   ]
  },
  {
   "cell_type": "code",
   "execution_count": 93,
   "metadata": {},
   "outputs": [],
   "source": [
    "def extractFeatures(imgs):\n",
    "    color_space = 'RGB'\n",
    "    spatial_feat = True\n",
    "    hist_feat  =True\n",
    "    hog_feat = True\n",
    "    hog_channel = 0\n",
    "    \n",
    "    # Create a list to append feature vectors to\n",
    "    features = []\n",
    "    print(len(imgs))\n",
    "    for img in imgs:\n",
    "        if(len(imgs)) == 64:\n",
    "            img = imgs\n",
    "        img_features = []\n",
    "    \n",
    "        # color conversion if other than 'RGB'\n",
    "        if color_space != 'RGB':\n",
    "            if color_space == 'HSV':\n",
    "                feature_image = cv2.cvtColor(img, cv2.COLOR_RGB2HSV)\n",
    "            elif color_space == 'LUV':\n",
    "                feature_image = cv2.cvtColor(img, cv2.COLOR_RGB2LUV)\n",
    "            elif color_space == 'HLS':\n",
    "                    feature_image = cv2.cvtColor(img, cv2.COLOR_RGB2HLS)\n",
    "            elif color_space == 'YUV':\n",
    "                feature_image = cv2.cvtColor(img, cv2.COLOR_RGB2YUV)\n",
    "            elif color_space == 'YCrCb':\n",
    "                feature_image = cv2.cvtColor(img, cv2.COLOR_RGB2YCrCb)\n",
    "        else:\n",
    "            feature_image = np.copy(img) \n",
    "\n",
    "        # Compute binned color features\n",
    "        if spatial_feat == True:\n",
    "            spatial_features = binSpatial(feature_image)\n",
    "            img_features.append(spatial_features)\n",
    "            \n",
    "\n",
    "        # Compute color histogram features\n",
    "        if hist_feat == True:\n",
    "            hist_features = colorHist(feature_image)\n",
    "            img_features.append(hist_features)\n",
    "            \n",
    "\n",
    "        # Compute HOG features\n",
    "        if hog_feat == True:\n",
    "            hog_features = hogFeatures(feature_image)\n",
    "            img_features.append(hog_features)\n",
    "\n",
    "        features.append(np.concatenate(img_features))\n",
    "        \n",
    "    # Return list of feature vectors\n",
    "    return features"
   ]
  },
  {
   "cell_type": "markdown",
   "metadata": {},
   "source": [
    "___\n",
    "## Part ?: Training of the Classifier\n",
    "*Training of the Classifier with test images*<br>"
   ]
  },
  {
   "cell_type": "markdown",
   "metadata": {},
   "source": [
    "#### Code Cell ?: Training Pipeline\n",
    "**Input:** path of the training images<br>\n",
    "**Output:** trained classifier"
   ]
  },
  {
   "cell_type": "code",
   "execution_count": 56,
   "metadata": {},
   "outputs": [],
   "source": [
    "def trainingPipeline(cars, notcars):\n",
    "    n_cars = len(cars)\n",
    "    n_notcars = len(notcars)\n",
    "    \n",
    "    if n_cars < n_notcars:\n",
    "        notcars = notcars[0:n_cars]\n",
    "    elif n_notcars < n_cars:\n",
    "        cars = cars[0:n_notcars]\n",
    "    \n",
    "    car_features = extractFeatures(cars)\n",
    "    notcar_features = extractFeatures(notcars)\n",
    "    \n",
    "    #print(notcar_features[0])\n",
    "    \n",
    "    # Create an array stack of feature vectors\n",
    "    X = np.vstack((car_features, notcar_features)).astype(np.float64)\n",
    "\n",
    "    # Define the labels vector\n",
    "    y = np.hstack((np.ones(len(car_features)), np.zeros(len(notcar_features))))\n",
    "\n",
    "    # Split up data into randomized training and test sets\n",
    "    rand_state = np.random.randint(0, 100)\n",
    "    X_train, X_test, y_train, y_test = train_test_split(X, y, test_size=0.2, random_state=rand_state)\n",
    "\n",
    "    # Fit a per-column scaler\n",
    "    X_scaler = StandardScaler().fit(X_train)\n",
    "    \n",
    "    # Apply the scaler to X\n",
    "    X_train = X_scaler.transform(X_train)\n",
    "    X_test = X_scaler.transform(X_test)\n",
    "    \n",
    "    # Use a linear SVC \n",
    "    svc = LinearSVC()\n",
    "    svc.fit(X_train, y_train)\n",
    "    \n",
    "    # Check the score of the SVC\n",
    "    print('Test Accuracy of SVC = ', round(svc.score(X_test, y_test), 4))\n",
    "    \n",
    "    return svc, X_scaler"
   ]
  },
  {
   "cell_type": "code",
   "execution_count": 55,
   "metadata": {},
   "outputs": [],
   "source": [
    "# read train images\n",
    "notcars = readImages('train_nv/*.png')\n",
    "cars = readImages('train_v/*.png')"
   ]
  },
  {
   "cell_type": "code",
   "execution_count": 57,
   "metadata": {},
   "outputs": [
    {
     "name": "stdout",
     "output_type": "stream",
     "text": [
      "Test Accuracy of SVC =  0.9713\n"
     ]
    }
   ],
   "source": [
    "clf, scaler = trainingPipeline(cars, notcars)"
   ]
  },
  {
   "cell_type": "markdown",
   "metadata": {},
   "source": [
    "___\n",
    "## Part ?: Testing\n",
    "*Test of the Classifier with test images and test video*<br>"
   ]
  },
  {
   "cell_type": "markdown",
   "metadata": {},
   "source": [
    "___\n",
    "#### Code Cell ?: Search for positive matches in windows\n",
    "*Uses extractFeatures()*\n",
    "**Input:** Image, Silde windows, Classifier, Scaler<br>\n",
    "**Output:** positive matches in windows"
   ]
  },
  {
   "cell_type": "code",
   "execution_count": 85,
   "metadata": {},
   "outputs": [],
   "source": [
    "def searchPositiveWindows(img, windows, clf, scaler):\n",
    "    \n",
    "    #1) Create an empty list to receive positive detection windows\n",
    "    on_windows = []\n",
    "    \n",
    "    #2) Iterate over all windows in the list\n",
    "    for window in windows:\n",
    "        #3) Extract the test window from original image\n",
    "        test_img = cv2.resize(img[window[0][1]:window[1][1], window[0][0]:window[1][0]], (64, 64))\n",
    "        \n",
    "        #4) Extract features for that window using single_img_features()\n",
    "        features = extractFeatures(test_img)\n",
    "        \n",
    "        #5) Scale extracted features to be fed to classifier\n",
    "        test_features = scaler.transform(np.array(features).reshape(1, -1))\n",
    "        \n",
    "        #6) Predict using your classifier\n",
    "        prediction = clf.predict(test_features)\n",
    "        \n",
    "        #7) If positive (prediction == 1) then save the window\n",
    "        if prediction == 1:\n",
    "            on_windows.append(window)\n",
    "            \n",
    "    #8) Return windows for positive detections\n",
    "    return on_windows"
   ]
  },
  {
   "cell_type": "markdown",
   "metadata": {},
   "source": [
    "___\n",
    "#### Code Cell ?: Image Testing Pipeline\n",
    "*Test of the Classifier with test images*<br>\n",
    "**Input:** path of the test images<br>\n",
    "**Output:** images with marked detected vehicles"
   ]
  },
  {
   "cell_type": "code",
   "execution_count": 79,
   "metadata": {},
   "outputs": [],
   "source": [
    "def imagePipeline(img):\n",
    "    image = np.copy(img) # Make a copy of the image\n",
    "    \n",
    "    # calculate the searching windows\n",
    "    windows = calcSlideWindows(image)\n",
    "    \n",
    "    # find positive matches in searching windows\n",
    "    windows_pos = searchPositiveWindows(image, windows, clf, scaler)\n",
    "    \n",
    "    # ToDo: delete false positives\n",
    "    windows_pos_fp = windows_pos\n",
    "    \n",
    "    # ToDo: merge multiple detections\n",
    "    windows_pos_md = windows_pos_fp\n",
    "    \n",
    "    # draw the detections on the image\n",
    "    res_img = drawBoxes(img, windows_pos_md)\n",
    "    \n",
    "    return res_img"
   ]
  },
  {
   "cell_type": "code",
   "execution_count": 94,
   "metadata": {},
   "outputs": [
    {
     "name": "stdout",
     "output_type": "stream",
     "text": [
      "(64, 64, 3)\n",
      "64\n",
      "(64, 64, 3)\n",
      "(64, 64, 3)\n",
      "(64, 64, 3)\n",
      "(64, 64, 3)\n",
      "(64, 64, 3)\n",
      "(64, 64, 3)\n",
      "(64, 64, 3)\n",
      "(64, 64, 3)\n",
      "(64, 64, 3)\n",
      "(64, 64, 3)\n",
      "(64, 64, 3)\n",
      "(64, 64, 3)\n",
      "(64, 64, 3)\n",
      "(64, 64, 3)\n",
      "(64, 64, 3)\n",
      "(64, 64, 3)\n",
      "(64, 64, 3)\n",
      "(64, 64, 3)\n",
      "(64, 64, 3)\n",
      "(64, 64, 3)\n",
      "(64, 64, 3)\n",
      "(64, 64, 3)\n",
      "(64, 64, 3)\n",
      "(64, 64, 3)\n",
      "(64, 64, 3)\n",
      "(64, 64, 3)\n",
      "(64, 64, 3)\n",
      "(64, 64, 3)\n",
      "(64, 64, 3)\n",
      "(64, 64, 3)\n",
      "(64, 64, 3)\n",
      "(64, 64, 3)\n",
      "(64, 64, 3)\n",
      "(64, 64, 3)\n",
      "(64, 64, 3)\n",
      "(64, 64, 3)\n",
      "(64, 64, 3)\n",
      "(64, 64, 3)\n",
      "(64, 64, 3)\n",
      "(64, 64, 3)\n",
      "(64, 64, 3)\n",
      "(64, 64, 3)\n",
      "(64, 64, 3)\n",
      "(64, 64, 3)\n",
      "(64, 64, 3)\n",
      "(64, 64, 3)\n",
      "(64, 64, 3)\n",
      "(64, 64, 3)\n",
      "(64, 64, 3)\n",
      "(64, 64, 3)\n",
      "(64, 64, 3)\n",
      "(64, 64, 3)\n",
      "(64, 64, 3)\n",
      "(64, 64, 3)\n",
      "(64, 64, 3)\n",
      "(64, 64, 3)\n",
      "(64, 64, 3)\n",
      "(64, 64, 3)\n",
      "(64, 64, 3)\n",
      "(64, 64, 3)\n",
      "(64, 64, 3)\n",
      "(64, 64, 3)\n",
      "(64, 64, 3)\n",
      "(64, 64, 3)\n"
     ]
    },
    {
     "ename": "ValueError",
     "evalue": "operands could not be broadcast together with shapes (1,315648) (4932,) (1,315648) ",
     "output_type": "error",
     "traceback": [
      "\u001b[1;31m---------------------------------------------------------------------------\u001b[0m",
      "\u001b[1;31mValueError\u001b[0m                                Traceback (most recent call last)",
      "\u001b[1;32m<ipython-input-94-e9c1b8b6442b>\u001b[0m in \u001b[0;36m<module>\u001b[1;34m()\u001b[0m\n\u001b[0;32m      6\u001b[0m \u001b[1;32mfor\u001b[0m \u001b[0mtest_image\u001b[0m \u001b[1;32min\u001b[0m \u001b[0mtest_images\u001b[0m\u001b[1;33m:\u001b[0m\u001b[1;33m\u001b[0m\u001b[0m\n\u001b[0;32m      7\u001b[0m     \u001b[1;31m# pipeline\u001b[0m\u001b[1;33m\u001b[0m\u001b[1;33m\u001b[0m\u001b[0m\n\u001b[1;32m----> 8\u001b[1;33m     \u001b[0mtest_image_detected\u001b[0m \u001b[1;33m=\u001b[0m \u001b[0mimagePipeline\u001b[0m\u001b[1;33m(\u001b[0m\u001b[0mtest_image\u001b[0m\u001b[1;33m)\u001b[0m\u001b[1;33m\u001b[0m\u001b[0m\n\u001b[0m\u001b[0;32m      9\u001b[0m     \u001b[0mimg_list\u001b[0m\u001b[1;33m.\u001b[0m\u001b[0mappend\u001b[0m\u001b[1;33m(\u001b[0m\u001b[0mtest_image_detected\u001b[0m\u001b[1;33m)\u001b[0m\u001b[1;33m\u001b[0m\u001b[0m\n\u001b[0;32m     10\u001b[0m \u001b[1;33m\u001b[0m\u001b[0m\n",
      "\u001b[1;32m<ipython-input-79-16371f037bb6>\u001b[0m in \u001b[0;36mimagePipeline\u001b[1;34m(img)\u001b[0m\n\u001b[0;32m      6\u001b[0m \u001b[1;33m\u001b[0m\u001b[0m\n\u001b[0;32m      7\u001b[0m     \u001b[1;31m# find positive matches in searching windows\u001b[0m\u001b[1;33m\u001b[0m\u001b[1;33m\u001b[0m\u001b[0m\n\u001b[1;32m----> 8\u001b[1;33m     \u001b[0mwindows_pos\u001b[0m \u001b[1;33m=\u001b[0m \u001b[0msearchPositiveWindows\u001b[0m\u001b[1;33m(\u001b[0m\u001b[0mimage\u001b[0m\u001b[1;33m,\u001b[0m \u001b[0mwindows\u001b[0m\u001b[1;33m,\u001b[0m \u001b[0mclf\u001b[0m\u001b[1;33m,\u001b[0m \u001b[0mscaler\u001b[0m\u001b[1;33m)\u001b[0m\u001b[1;33m\u001b[0m\u001b[0m\n\u001b[0m\u001b[0;32m      9\u001b[0m \u001b[1;33m\u001b[0m\u001b[0m\n\u001b[0;32m     10\u001b[0m     \u001b[1;31m# ToDo: delete false positives\u001b[0m\u001b[1;33m\u001b[0m\u001b[1;33m\u001b[0m\u001b[0m\n",
      "\u001b[1;32m<ipython-input-85-9aba2f9fdf07>\u001b[0m in \u001b[0;36msearchPositiveWindows\u001b[1;34m(img, windows, clf, scaler)\u001b[0m\n\u001b[0;32m     14\u001b[0m \u001b[1;33m\u001b[0m\u001b[0m\n\u001b[0;32m     15\u001b[0m         \u001b[1;31m#5) Scale extracted features to be fed to classifier\u001b[0m\u001b[1;33m\u001b[0m\u001b[1;33m\u001b[0m\u001b[0m\n\u001b[1;32m---> 16\u001b[1;33m         \u001b[0mtest_features\u001b[0m \u001b[1;33m=\u001b[0m \u001b[0mscaler\u001b[0m\u001b[1;33m.\u001b[0m\u001b[0mtransform\u001b[0m\u001b[1;33m(\u001b[0m\u001b[0mnp\u001b[0m\u001b[1;33m.\u001b[0m\u001b[0marray\u001b[0m\u001b[1;33m(\u001b[0m\u001b[0mfeatures\u001b[0m\u001b[1;33m)\u001b[0m\u001b[1;33m.\u001b[0m\u001b[0mreshape\u001b[0m\u001b[1;33m(\u001b[0m\u001b[1;36m1\u001b[0m\u001b[1;33m,\u001b[0m \u001b[1;33m-\u001b[0m\u001b[1;36m1\u001b[0m\u001b[1;33m)\u001b[0m\u001b[1;33m)\u001b[0m\u001b[1;33m\u001b[0m\u001b[0m\n\u001b[0m\u001b[0;32m     17\u001b[0m \u001b[1;33m\u001b[0m\u001b[0m\n\u001b[0;32m     18\u001b[0m         \u001b[1;31m#6) Predict using your classifier\u001b[0m\u001b[1;33m\u001b[0m\u001b[1;33m\u001b[0m\u001b[0m\n",
      "\u001b[1;32m~\\Miniconda3\\envs\\carnd-term1\\lib\\site-packages\\sklearn\\preprocessing\\data.py\u001b[0m in \u001b[0;36mtransform\u001b[1;34m(self, X, y, copy)\u001b[0m\n\u001b[0;32m    690\u001b[0m         \u001b[1;32melse\u001b[0m\u001b[1;33m:\u001b[0m\u001b[1;33m\u001b[0m\u001b[0m\n\u001b[0;32m    691\u001b[0m             \u001b[1;32mif\u001b[0m \u001b[0mself\u001b[0m\u001b[1;33m.\u001b[0m\u001b[0mwith_mean\u001b[0m\u001b[1;33m:\u001b[0m\u001b[1;33m\u001b[0m\u001b[0m\n\u001b[1;32m--> 692\u001b[1;33m                 \u001b[0mX\u001b[0m \u001b[1;33m-=\u001b[0m \u001b[0mself\u001b[0m\u001b[1;33m.\u001b[0m\u001b[0mmean_\u001b[0m\u001b[1;33m\u001b[0m\u001b[0m\n\u001b[0m\u001b[0;32m    693\u001b[0m             \u001b[1;32mif\u001b[0m \u001b[0mself\u001b[0m\u001b[1;33m.\u001b[0m\u001b[0mwith_std\u001b[0m\u001b[1;33m:\u001b[0m\u001b[1;33m\u001b[0m\u001b[0m\n\u001b[0;32m    694\u001b[0m                 \u001b[0mX\u001b[0m \u001b[1;33m/=\u001b[0m \u001b[0mself\u001b[0m\u001b[1;33m.\u001b[0m\u001b[0mscale_\u001b[0m\u001b[1;33m\u001b[0m\u001b[0m\n",
      "\u001b[1;31mValueError\u001b[0m: operands could not be broadcast together with shapes (1,315648) (4932,) (1,315648) "
     ]
    }
   ],
   "source": [
    "# read test images\n",
    "test_images = readImages('test_images/*.jpg')\n",
    "\n",
    "img_list = []\n",
    "\n",
    "for test_image in test_images:\n",
    "    # pipeline\n",
    "    test_image_detected = imagePipeline(test_image)\n",
    "    img_list.append(test_image_detected)\n",
    "    \n",
    "plotImage(img_list)"
   ]
  },
  {
   "cell_type": "markdown",
   "metadata": {},
   "source": [
    "___\n",
    "#### Code Cell ?: Video Pipeline\n",
    "*Test of the Classifier with test video*<br>\n",
    "**Input:** path of the test video<br>\n",
    "**Output:** video with marked detected vehicles"
   ]
  },
  {
   "cell_type": "code",
   "execution_count": null,
   "metadata": {},
   "outputs": [],
   "source": [
    "def videoPipeline(img):\n",
    "    # Sliding window\n",
    "    res_img = img # ToDo\n",
    "    \n",
    "    return res_img"
   ]
  },
  {
   "cell_type": "markdown",
   "metadata": {},
   "source": [
    "#### Code Cell ?: Detect vehicles on video\n",
    "**Input:** name of the test video<br>\n",
    "**Output:** video with marked detected vehicles will be written in current folder"
   ]
  },
  {
   "cell_type": "code",
   "execution_count": null,
   "metadata": {},
   "outputs": [],
   "source": [
    "def detectVehicles(video_file_name):\n",
    "    clip = VideoFileClip(video_file_name+'.mp4')\n",
    "    #clip = VideoFileClip(video_file_name+'.mp4').subclip(0,5)\n",
    "    project_video_clip = clip.fl_image(videoPipeline)\n",
    "    %time project_video_clip.write_videofile(project_video_file_name+'_with_detected_vehicles.mp4', audio=False)"
   ]
  },
  {
   "cell_type": "code",
   "execution_count": null,
   "metadata": {},
   "outputs": [],
   "source": [
    "#detectVehicles('project_video')"
   ]
  }
 ],
 "metadata": {
  "kernelspec": {
   "display_name": "Python 3",
   "language": "python",
   "name": "python3"
  },
  "language_info": {
   "codemirror_mode": {
    "name": "ipython",
    "version": 3
   },
   "file_extension": ".py",
   "mimetype": "text/x-python",
   "name": "python",
   "nbconvert_exporter": "python",
   "pygments_lexer": "ipython3",
   "version": "3.5.2"
  },
  "widgets": {
   "state": {},
   "version": "1.1.2"
  }
 },
 "nbformat": 4,
 "nbformat_minor": 2
}
